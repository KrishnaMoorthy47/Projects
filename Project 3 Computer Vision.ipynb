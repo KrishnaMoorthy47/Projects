{
  "nbformat": 4,
  "nbformat_minor": 0,
  "metadata": {
    "colab": {
      "provenance": []
    },
    "kernelspec": {
      "name": "python3",
      "display_name": "Python 3"
    },
    "language_info": {
      "name": "python"
    }
  },
  "cells": [
    {
      "cell_type": "code",
      "execution_count": 1,
      "metadata": {
        "id": "8t_RnEQU9DNX"
      },
      "outputs": [],
      "source": [
        "import cv2  \n",
        "import cv2 as cv \n",
        "\n",
        "import numpy as np \n",
        "\n",
        "from matplotlib import pyplot as plt \n",
        "\n",
        "from google.colab.patches import cv2_imshow  \n",
        "\n",
        "from PIL import Image "
      ]
    },
    {
      "cell_type": "code",
      "source": [
        "def show(image,x=30,y=7):\n",
        "  img=cv2.cvtColor(image, cv2.COLOR_BGR2RGB)\n",
        "  plt.figure(figsize=(x,y))\n",
        "  plt.imshow(img)"
      ],
      "metadata": {
        "id": "7tN3iB7I9QDT"
      },
      "execution_count": 2,
      "outputs": []
    },
    {
      "cell_type": "code",
      "source": [
        "def findRicegrains(filepath):\n",
        "  img = cv2.imread(filepath)                                                     #Reading the Images\n",
        "  grey_image = cv2.cvtColor(img, cv2.COLOR_BGR2GRAY)                             #Converting to Greyscale image\n",
        "  ret,threshold_img = cv2.threshold(grey_image, 120, 255, cv2.THRESH_BINARY)     #Getting the Threshold of the image\n",
        "  kernel = np.ones((3),np.uint8)                                                 #Applying Kernel\n",
        "  new_image = cv2.morphologyEx(threshold_img,cv2.MORPH_OPEN, kernel, iterations=8)\n",
        "  contours_num ,hierarchy = cv.findContours(new_image, \n",
        "                                      cv.RETR_TREE, cv.CHAIN_APPROX_SIMPLE)     #Finding the Contours\n",
        "  output = cv.cvtColor(new_image, cv.COLOR_GRAY2BGR)\n",
        "  cv.drawContours(output, contours_num, -1, (0, 0, 255), 2)\n",
        "  print(\"Total number of grains : \", len(contours_num))\n",
        "\n",
        "  #Creating a list name count for counting the total Broken rice grains\n",
        "  count = []\n",
        "  for x in contours_num:\n",
        "    area = cv.contourArea(x)\n",
        "    if area < 900 :\n",
        "      count.append(x)\n",
        "  print(\"Total number of broken rice present in the Image is: \",len(count))\n",
        "  print(\"Total number of non-broken rice present in the Image is: \", (len(contours_num) - len(count)) )\n",
        "  "
      ],
      "metadata": {
        "id": "_tEi-BnP9Yhx"
      },
      "execution_count": 3,
      "outputs": []
    },
    {
      "cell_type": "code",
      "source": [
        "for i in range(1,6):\n",
        "  print(\"Doing for the image for : image\" + str(i) + \".jpg\")\n",
        "  findRicegrains(\"/content/image_\" + str(i) + \".jpg\")"
      ],
      "metadata": {
        "colab": {
          "base_uri": "https://localhost:8080/"
        },
        "id": "WFIlM39A9dC0",
        "outputId": "b6364b6e-79d3-4956-c805-79bf40f0b240"
      },
      "execution_count": 4,
      "outputs": [
        {
          "output_type": "stream",
          "name": "stdout",
          "text": [
            "Doing for the image for : image1.jpg\n",
            "Total number of grains :  513\n",
            "Total number of broken rice present in the Image is:  93\n",
            "Total number of non-broken rice present in the Image is:  420\n",
            "Doing for the image for : image2.jpg\n",
            "Total number of grains :  517\n",
            "Total number of broken rice present in the Image is:  154\n",
            "Total number of non-broken rice present in the Image is:  363\n",
            "Doing for the image for : image3.jpg\n",
            "Total number of grains :  661\n",
            "Total number of broken rice present in the Image is:  274\n",
            "Total number of non-broken rice present in the Image is:  387\n",
            "Doing for the image for : image4.jpg\n",
            "Total number of grains :  629\n",
            "Total number of broken rice present in the Image is:  224\n",
            "Total number of non-broken rice present in the Image is:  405\n",
            "Doing for the image for : image5.jpg\n",
            "Total number of grains :  504\n",
            "Total number of broken rice present in the Image is:  73\n",
            "Total number of non-broken rice present in the Image is:  431\n"
          ]
        }
      ]
    }
  ]
}