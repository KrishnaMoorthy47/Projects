{
  "cells": [
    {
      "cell_type": "markdown",
      "metadata": {
        "id": "view-in-github",
        "colab_type": "text"
      },
      "source": [
        "<a href=\"https://colab.research.google.com/github/KrishnaMoorthy47/Projects/blob/main/Fraud_Transaction_Detection_Project.ipynb\" target=\"_parent\"><img src=\"https://colab.research.google.com/assets/colab-badge.svg\" alt=\"Open In Colab\"/></a>"
      ]
    },
    {
      "cell_type": "markdown",
      "source": [
        "## **Introduction**\n",
        "\n",
        "Payments related fraud is a key aspect of cyber-crime agencies and recent research has shown that machine learning techniques can be applied successfully to detect fraudulent transactions in large amounts of payments data. Such techniques have the ability to detect fraudulent transactions that human auditors may not be able to catch and also do this on a real time basis.\n",
        "\n",
        "In this project, we apply multiple supervised machine learning techniques to the problem of fraud detection using a publicly available simulated payment transactions data. \n",
        "\n",
        "We aim to demonstrate how supervised ML techniques can be used to classify data with high class imbalance with high accuracy. "
      ],
      "metadata": {
        "id": "069sQTthIn7v"
      }
    },
    {
      "cell_type": "code",
      "execution_count": 1,
      "metadata": {
        "id": "R2V3lz95Nzho"
      },
      "outputs": [],
      "source": [
        "import pandas as pd\n",
        "import numpy as np\n",
        "import matplotlib.pyplot as plt\n",
        "import seaborn as sns"
      ]
    },
    {
      "cell_type": "code",
      "execution_count": 2,
      "metadata": {
        "id": "5hzPn0QPPUSH"
      },
      "outputs": [],
      "source": [
        "df = pd.read_csv('/content/Fraud.csv')"
      ]
    },
    {
      "cell_type": "code",
      "execution_count": 3,
      "metadata": {
        "colab": {
          "base_uri": "https://localhost:8080/",
          "height": 206
        },
        "id": "1xwb9w0-QJiq",
        "outputId": "ccbb0a88-7de5-496b-8bd7-5aad160aa36e"
      },
      "outputs": [
        {
          "output_type": "execute_result",
          "data": {
            "text/plain": [
              "   step      type    amount     nameOrig  oldbalanceOrg  newbalanceOrig  \\\n",
              "0     1   PAYMENT   9839.64  C1231006815       170136.0       160296.36   \n",
              "1     1   PAYMENT   1864.28  C1666544295        21249.0        19384.72   \n",
              "2     1  TRANSFER    181.00  C1305486145          181.0            0.00   \n",
              "3     1  CASH_OUT    181.00   C840083671          181.0            0.00   \n",
              "4     1   PAYMENT  11668.14  C2048537720        41554.0        29885.86   \n",
              "\n",
              "      nameDest  oldbalanceDest  newbalanceDest  isFraud  isFlaggedFraud  \n",
              "0  M1979787155             0.0             0.0      0.0             0.0  \n",
              "1  M2044282225             0.0             0.0      0.0             0.0  \n",
              "2   C553264065             0.0             0.0      1.0             0.0  \n",
              "3    C38997010         21182.0             0.0      1.0             0.0  \n",
              "4  M1230701703             0.0             0.0      0.0             0.0  "
            ],
            "text/html": [
              "\n",
              "  <div id=\"df-41fa4626-d094-4dbd-8044-1fc23a0b23ac\">\n",
              "    <div class=\"colab-df-container\">\n",
              "      <div>\n",
              "<style scoped>\n",
              "    .dataframe tbody tr th:only-of-type {\n",
              "        vertical-align: middle;\n",
              "    }\n",
              "\n",
              "    .dataframe tbody tr th {\n",
              "        vertical-align: top;\n",
              "    }\n",
              "\n",
              "    .dataframe thead th {\n",
              "        text-align: right;\n",
              "    }\n",
              "</style>\n",
              "<table border=\"1\" class=\"dataframe\">\n",
              "  <thead>\n",
              "    <tr style=\"text-align: right;\">\n",
              "      <th></th>\n",
              "      <th>step</th>\n",
              "      <th>type</th>\n",
              "      <th>amount</th>\n",
              "      <th>nameOrig</th>\n",
              "      <th>oldbalanceOrg</th>\n",
              "      <th>newbalanceOrig</th>\n",
              "      <th>nameDest</th>\n",
              "      <th>oldbalanceDest</th>\n",
              "      <th>newbalanceDest</th>\n",
              "      <th>isFraud</th>\n",
              "      <th>isFlaggedFraud</th>\n",
              "    </tr>\n",
              "  </thead>\n",
              "  <tbody>\n",
              "    <tr>\n",
              "      <th>0</th>\n",
              "      <td>1</td>\n",
              "      <td>PAYMENT</td>\n",
              "      <td>9839.64</td>\n",
              "      <td>C1231006815</td>\n",
              "      <td>170136.0</td>\n",
              "      <td>160296.36</td>\n",
              "      <td>M1979787155</td>\n",
              "      <td>0.0</td>\n",
              "      <td>0.0</td>\n",
              "      <td>0.0</td>\n",
              "      <td>0.0</td>\n",
              "    </tr>\n",
              "    <tr>\n",
              "      <th>1</th>\n",
              "      <td>1</td>\n",
              "      <td>PAYMENT</td>\n",
              "      <td>1864.28</td>\n",
              "      <td>C1666544295</td>\n",
              "      <td>21249.0</td>\n",
              "      <td>19384.72</td>\n",
              "      <td>M2044282225</td>\n",
              "      <td>0.0</td>\n",
              "      <td>0.0</td>\n",
              "      <td>0.0</td>\n",
              "      <td>0.0</td>\n",
              "    </tr>\n",
              "    <tr>\n",
              "      <th>2</th>\n",
              "      <td>1</td>\n",
              "      <td>TRANSFER</td>\n",
              "      <td>181.00</td>\n",
              "      <td>C1305486145</td>\n",
              "      <td>181.0</td>\n",
              "      <td>0.00</td>\n",
              "      <td>C553264065</td>\n",
              "      <td>0.0</td>\n",
              "      <td>0.0</td>\n",
              "      <td>1.0</td>\n",
              "      <td>0.0</td>\n",
              "    </tr>\n",
              "    <tr>\n",
              "      <th>3</th>\n",
              "      <td>1</td>\n",
              "      <td>CASH_OUT</td>\n",
              "      <td>181.00</td>\n",
              "      <td>C840083671</td>\n",
              "      <td>181.0</td>\n",
              "      <td>0.00</td>\n",
              "      <td>C38997010</td>\n",
              "      <td>21182.0</td>\n",
              "      <td>0.0</td>\n",
              "      <td>1.0</td>\n",
              "      <td>0.0</td>\n",
              "    </tr>\n",
              "    <tr>\n",
              "      <th>4</th>\n",
              "      <td>1</td>\n",
              "      <td>PAYMENT</td>\n",
              "      <td>11668.14</td>\n",
              "      <td>C2048537720</td>\n",
              "      <td>41554.0</td>\n",
              "      <td>29885.86</td>\n",
              "      <td>M1230701703</td>\n",
              "      <td>0.0</td>\n",
              "      <td>0.0</td>\n",
              "      <td>0.0</td>\n",
              "      <td>0.0</td>\n",
              "    </tr>\n",
              "  </tbody>\n",
              "</table>\n",
              "</div>\n",
              "      <button class=\"colab-df-convert\" onclick=\"convertToInteractive('df-41fa4626-d094-4dbd-8044-1fc23a0b23ac')\"\n",
              "              title=\"Convert this dataframe to an interactive table.\"\n",
              "              style=\"display:none;\">\n",
              "        \n",
              "  <svg xmlns=\"http://www.w3.org/2000/svg\" height=\"24px\"viewBox=\"0 0 24 24\"\n",
              "       width=\"24px\">\n",
              "    <path d=\"M0 0h24v24H0V0z\" fill=\"none\"/>\n",
              "    <path d=\"M18.56 5.44l.94 2.06.94-2.06 2.06-.94-2.06-.94-.94-2.06-.94 2.06-2.06.94zm-11 1L8.5 8.5l.94-2.06 2.06-.94-2.06-.94L8.5 2.5l-.94 2.06-2.06.94zm10 10l.94 2.06.94-2.06 2.06-.94-2.06-.94-.94-2.06-.94 2.06-2.06.94z\"/><path d=\"M17.41 7.96l-1.37-1.37c-.4-.4-.92-.59-1.43-.59-.52 0-1.04.2-1.43.59L10.3 9.45l-7.72 7.72c-.78.78-.78 2.05 0 2.83L4 21.41c.39.39.9.59 1.41.59.51 0 1.02-.2 1.41-.59l7.78-7.78 2.81-2.81c.8-.78.8-2.07 0-2.86zM5.41 20L4 18.59l7.72-7.72 1.47 1.35L5.41 20z\"/>\n",
              "  </svg>\n",
              "      </button>\n",
              "      \n",
              "  <style>\n",
              "    .colab-df-container {\n",
              "      display:flex;\n",
              "      flex-wrap:wrap;\n",
              "      gap: 12px;\n",
              "    }\n",
              "\n",
              "    .colab-df-convert {\n",
              "      background-color: #E8F0FE;\n",
              "      border: none;\n",
              "      border-radius: 50%;\n",
              "      cursor: pointer;\n",
              "      display: none;\n",
              "      fill: #1967D2;\n",
              "      height: 32px;\n",
              "      padding: 0 0 0 0;\n",
              "      width: 32px;\n",
              "    }\n",
              "\n",
              "    .colab-df-convert:hover {\n",
              "      background-color: #E2EBFA;\n",
              "      box-shadow: 0px 1px 2px rgba(60, 64, 67, 0.3), 0px 1px 3px 1px rgba(60, 64, 67, 0.15);\n",
              "      fill: #174EA6;\n",
              "    }\n",
              "\n",
              "    [theme=dark] .colab-df-convert {\n",
              "      background-color: #3B4455;\n",
              "      fill: #D2E3FC;\n",
              "    }\n",
              "\n",
              "    [theme=dark] .colab-df-convert:hover {\n",
              "      background-color: #434B5C;\n",
              "      box-shadow: 0px 1px 3px 1px rgba(0, 0, 0, 0.15);\n",
              "      filter: drop-shadow(0px 1px 2px rgba(0, 0, 0, 0.3));\n",
              "      fill: #FFFFFF;\n",
              "    }\n",
              "  </style>\n",
              "\n",
              "      <script>\n",
              "        const buttonEl =\n",
              "          document.querySelector('#df-41fa4626-d094-4dbd-8044-1fc23a0b23ac button.colab-df-convert');\n",
              "        buttonEl.style.display =\n",
              "          google.colab.kernel.accessAllowed ? 'block' : 'none';\n",
              "\n",
              "        async function convertToInteractive(key) {\n",
              "          const element = document.querySelector('#df-41fa4626-d094-4dbd-8044-1fc23a0b23ac');\n",
              "          const dataTable =\n",
              "            await google.colab.kernel.invokeFunction('convertToInteractive',\n",
              "                                                     [key], {});\n",
              "          if (!dataTable) return;\n",
              "\n",
              "          const docLinkHtml = 'Like what you see? Visit the ' +\n",
              "            '<a target=\"_blank\" href=https://colab.research.google.com/notebooks/data_table.ipynb>data table notebook</a>'\n",
              "            + ' to learn more about interactive tables.';\n",
              "          element.innerHTML = '';\n",
              "          dataTable['output_type'] = 'display_data';\n",
              "          await google.colab.output.renderOutput(dataTable, element);\n",
              "          const docLink = document.createElement('div');\n",
              "          docLink.innerHTML = docLinkHtml;\n",
              "          element.appendChild(docLink);\n",
              "        }\n",
              "      </script>\n",
              "    </div>\n",
              "  </div>\n",
              "  "
            ]
          },
          "metadata": {},
          "execution_count": 3
        }
      ],
      "source": [
        "df.head()"
      ]
    },
    {
      "cell_type": "code",
      "execution_count": 4,
      "metadata": {
        "colab": {
          "base_uri": "https://localhost:8080/"
        },
        "id": "nqUNyztxQoj9",
        "outputId": "e8a5e3eb-1a14-4593-bad0-32364142ac2a"
      },
      "outputs": [
        {
          "output_type": "execute_result",
          "data": {
            "text/plain": [
              "step              0\n",
              "type              0\n",
              "amount            0\n",
              "nameOrig          0\n",
              "oldbalanceOrg     0\n",
              "newbalanceOrig    0\n",
              "nameDest          0\n",
              "oldbalanceDest    0\n",
              "newbalanceDest    1\n",
              "isFraud           1\n",
              "isFlaggedFraud    1\n",
              "dtype: int64"
            ]
          },
          "metadata": {},
          "execution_count": 4
        }
      ],
      "source": [
        "df.isnull().sum()"
      ]
    },
    {
      "cell_type": "code",
      "execution_count": 5,
      "metadata": {
        "colab": {
          "base_uri": "https://localhost:8080/"
        },
        "id": "dWQdPYzAQpES",
        "outputId": "eb25c7a1-b8dc-4f57-be1a-0323a5563d65"
      },
      "outputs": [
        {
          "output_type": "stream",
          "name": "stdout",
          "text": [
            "<class 'pandas.core.frame.DataFrame'>\n",
            "RangeIndex: 69858 entries, 0 to 69857\n",
            "Data columns (total 11 columns):\n",
            " #   Column          Non-Null Count  Dtype  \n",
            "---  ------          --------------  -----  \n",
            " 0   step            69858 non-null  int64  \n",
            " 1   type            69858 non-null  object \n",
            " 2   amount          69858 non-null  float64\n",
            " 3   nameOrig        69858 non-null  object \n",
            " 4   oldbalanceOrg   69858 non-null  float64\n",
            " 5   newbalanceOrig  69858 non-null  float64\n",
            " 6   nameDest        69858 non-null  object \n",
            " 7   oldbalanceDest  69858 non-null  float64\n",
            " 8   newbalanceDest  69857 non-null  float64\n",
            " 9   isFraud         69857 non-null  float64\n",
            " 10  isFlaggedFraud  69857 non-null  float64\n",
            "dtypes: float64(7), int64(1), object(3)\n",
            "memory usage: 5.9+ MB\n"
          ]
        }
      ],
      "source": [
        "df.info()"
      ]
    },
    {
      "cell_type": "code",
      "execution_count": 6,
      "metadata": {
        "colab": {
          "base_uri": "https://localhost:8080/"
        },
        "id": "zB3joXhORCzj",
        "outputId": "f3f99a8d-b81f-4a0c-96cd-e5c7eee0c8a1"
      },
      "outputs": [
        {
          "output_type": "stream",
          "name": "stderr",
          "text": [
            "<ipython-input-6-353697db5d3f>:1: FutureWarning: In a future version of pandas all arguments of DataFrame.dropna will be keyword-only.\n",
            "  df.dropna(0,inplace = True)\n"
          ]
        }
      ],
      "source": [
        "df.dropna(0,inplace = True)"
      ]
    },
    {
      "cell_type": "code",
      "execution_count": 7,
      "metadata": {
        "colab": {
          "base_uri": "https://localhost:8080/"
        },
        "id": "AcIzrehiRIEr",
        "outputId": "0f0ed3e7-ed27-422a-d0be-2ed3e62a5cf8"
      },
      "outputs": [
        {
          "output_type": "execute_result",
          "data": {
            "text/plain": [
              "step              0\n",
              "type              0\n",
              "amount            0\n",
              "nameOrig          0\n",
              "oldbalanceOrg     0\n",
              "newbalanceOrig    0\n",
              "nameDest          0\n",
              "oldbalanceDest    0\n",
              "newbalanceDest    0\n",
              "isFraud           0\n",
              "isFlaggedFraud    0\n",
              "dtype: int64"
            ]
          },
          "metadata": {},
          "execution_count": 7
        }
      ],
      "source": [
        "df.isnull().sum()"
      ]
    },
    {
      "cell_type": "code",
      "execution_count": 8,
      "metadata": {
        "colab": {
          "base_uri": "https://localhost:8080/",
          "height": 300
        },
        "id": "DuY3463JWs4I",
        "outputId": "7ff28c47-2723-4219-b305-7bb662f5d420"
      },
      "outputs": [
        {
          "output_type": "execute_result",
          "data": {
            "text/plain": [
              "               step        amount  oldbalanceOrg  newbalanceOrig  \\\n",
              "count  69857.000000  6.985700e+04   6.985700e+04    6.985700e+04   \n",
              "mean       7.893311  1.640200e+05   9.043196e+05    9.203112e+05   \n",
              "std        1.874520  3.313748e+05   2.791634e+06    2.829900e+06   \n",
              "min        1.000000  6.300000e-01   0.000000e+00    0.000000e+00   \n",
              "25%        8.000000  9.011170e+03   0.000000e+00    0.000000e+00   \n",
              "50%        8.000000  4.405764e+04   1.990900e+04    0.000000e+00   \n",
              "75%        9.000000  1.991328e+05   1.721230e+05    1.940279e+05   \n",
              "max        9.000000  1.000000e+07   3.379739e+07    3.400874e+07   \n",
              "\n",
              "       oldbalanceDest  newbalanceDest       isFraud  isFlaggedFraud  \n",
              "count    6.985700e+04    6.985700e+04  69857.000000         69857.0  \n",
              "mean     8.543644e+05    1.185141e+06      0.001532             0.0  \n",
              "std      2.403015e+06    2.871791e+06      0.039107             0.0  \n",
              "min      0.000000e+00    0.000000e+00      0.000000             0.0  \n",
              "25%      0.000000e+00    0.000000e+00      0.000000             0.0  \n",
              "50%      1.416700e+04    2.113068e+04      0.000000             0.0  \n",
              "75%      5.186148e+05    9.824113e+05      0.000000             0.0  \n",
              "max      3.130692e+07    3.197699e+07      1.000000             0.0  "
            ],
            "text/html": [
              "\n",
              "  <div id=\"df-00e8ebd3-46a8-4a2e-8c5c-5e01374d6de1\">\n",
              "    <div class=\"colab-df-container\">\n",
              "      <div>\n",
              "<style scoped>\n",
              "    .dataframe tbody tr th:only-of-type {\n",
              "        vertical-align: middle;\n",
              "    }\n",
              "\n",
              "    .dataframe tbody tr th {\n",
              "        vertical-align: top;\n",
              "    }\n",
              "\n",
              "    .dataframe thead th {\n",
              "        text-align: right;\n",
              "    }\n",
              "</style>\n",
              "<table border=\"1\" class=\"dataframe\">\n",
              "  <thead>\n",
              "    <tr style=\"text-align: right;\">\n",
              "      <th></th>\n",
              "      <th>step</th>\n",
              "      <th>amount</th>\n",
              "      <th>oldbalanceOrg</th>\n",
              "      <th>newbalanceOrig</th>\n",
              "      <th>oldbalanceDest</th>\n",
              "      <th>newbalanceDest</th>\n",
              "      <th>isFraud</th>\n",
              "      <th>isFlaggedFraud</th>\n",
              "    </tr>\n",
              "  </thead>\n",
              "  <tbody>\n",
              "    <tr>\n",
              "      <th>count</th>\n",
              "      <td>69857.000000</td>\n",
              "      <td>6.985700e+04</td>\n",
              "      <td>6.985700e+04</td>\n",
              "      <td>6.985700e+04</td>\n",
              "      <td>6.985700e+04</td>\n",
              "      <td>6.985700e+04</td>\n",
              "      <td>69857.000000</td>\n",
              "      <td>69857.0</td>\n",
              "    </tr>\n",
              "    <tr>\n",
              "      <th>mean</th>\n",
              "      <td>7.893311</td>\n",
              "      <td>1.640200e+05</td>\n",
              "      <td>9.043196e+05</td>\n",
              "      <td>9.203112e+05</td>\n",
              "      <td>8.543644e+05</td>\n",
              "      <td>1.185141e+06</td>\n",
              "      <td>0.001532</td>\n",
              "      <td>0.0</td>\n",
              "    </tr>\n",
              "    <tr>\n",
              "      <th>std</th>\n",
              "      <td>1.874520</td>\n",
              "      <td>3.313748e+05</td>\n",
              "      <td>2.791634e+06</td>\n",
              "      <td>2.829900e+06</td>\n",
              "      <td>2.403015e+06</td>\n",
              "      <td>2.871791e+06</td>\n",
              "      <td>0.039107</td>\n",
              "      <td>0.0</td>\n",
              "    </tr>\n",
              "    <tr>\n",
              "      <th>min</th>\n",
              "      <td>1.000000</td>\n",
              "      <td>6.300000e-01</td>\n",
              "      <td>0.000000e+00</td>\n",
              "      <td>0.000000e+00</td>\n",
              "      <td>0.000000e+00</td>\n",
              "      <td>0.000000e+00</td>\n",
              "      <td>0.000000</td>\n",
              "      <td>0.0</td>\n",
              "    </tr>\n",
              "    <tr>\n",
              "      <th>25%</th>\n",
              "      <td>8.000000</td>\n",
              "      <td>9.011170e+03</td>\n",
              "      <td>0.000000e+00</td>\n",
              "      <td>0.000000e+00</td>\n",
              "      <td>0.000000e+00</td>\n",
              "      <td>0.000000e+00</td>\n",
              "      <td>0.000000</td>\n",
              "      <td>0.0</td>\n",
              "    </tr>\n",
              "    <tr>\n",
              "      <th>50%</th>\n",
              "      <td>8.000000</td>\n",
              "      <td>4.405764e+04</td>\n",
              "      <td>1.990900e+04</td>\n",
              "      <td>0.000000e+00</td>\n",
              "      <td>1.416700e+04</td>\n",
              "      <td>2.113068e+04</td>\n",
              "      <td>0.000000</td>\n",
              "      <td>0.0</td>\n",
              "    </tr>\n",
              "    <tr>\n",
              "      <th>75%</th>\n",
              "      <td>9.000000</td>\n",
              "      <td>1.991328e+05</td>\n",
              "      <td>1.721230e+05</td>\n",
              "      <td>1.940279e+05</td>\n",
              "      <td>5.186148e+05</td>\n",
              "      <td>9.824113e+05</td>\n",
              "      <td>0.000000</td>\n",
              "      <td>0.0</td>\n",
              "    </tr>\n",
              "    <tr>\n",
              "      <th>max</th>\n",
              "      <td>9.000000</td>\n",
              "      <td>1.000000e+07</td>\n",
              "      <td>3.379739e+07</td>\n",
              "      <td>3.400874e+07</td>\n",
              "      <td>3.130692e+07</td>\n",
              "      <td>3.197699e+07</td>\n",
              "      <td>1.000000</td>\n",
              "      <td>0.0</td>\n",
              "    </tr>\n",
              "  </tbody>\n",
              "</table>\n",
              "</div>\n",
              "      <button class=\"colab-df-convert\" onclick=\"convertToInteractive('df-00e8ebd3-46a8-4a2e-8c5c-5e01374d6de1')\"\n",
              "              title=\"Convert this dataframe to an interactive table.\"\n",
              "              style=\"display:none;\">\n",
              "        \n",
              "  <svg xmlns=\"http://www.w3.org/2000/svg\" height=\"24px\"viewBox=\"0 0 24 24\"\n",
              "       width=\"24px\">\n",
              "    <path d=\"M0 0h24v24H0V0z\" fill=\"none\"/>\n",
              "    <path d=\"M18.56 5.44l.94 2.06.94-2.06 2.06-.94-2.06-.94-.94-2.06-.94 2.06-2.06.94zm-11 1L8.5 8.5l.94-2.06 2.06-.94-2.06-.94L8.5 2.5l-.94 2.06-2.06.94zm10 10l.94 2.06.94-2.06 2.06-.94-2.06-.94-.94-2.06-.94 2.06-2.06.94z\"/><path d=\"M17.41 7.96l-1.37-1.37c-.4-.4-.92-.59-1.43-.59-.52 0-1.04.2-1.43.59L10.3 9.45l-7.72 7.72c-.78.78-.78 2.05 0 2.83L4 21.41c.39.39.9.59 1.41.59.51 0 1.02-.2 1.41-.59l7.78-7.78 2.81-2.81c.8-.78.8-2.07 0-2.86zM5.41 20L4 18.59l7.72-7.72 1.47 1.35L5.41 20z\"/>\n",
              "  </svg>\n",
              "      </button>\n",
              "      \n",
              "  <style>\n",
              "    .colab-df-container {\n",
              "      display:flex;\n",
              "      flex-wrap:wrap;\n",
              "      gap: 12px;\n",
              "    }\n",
              "\n",
              "    .colab-df-convert {\n",
              "      background-color: #E8F0FE;\n",
              "      border: none;\n",
              "      border-radius: 50%;\n",
              "      cursor: pointer;\n",
              "      display: none;\n",
              "      fill: #1967D2;\n",
              "      height: 32px;\n",
              "      padding: 0 0 0 0;\n",
              "      width: 32px;\n",
              "    }\n",
              "\n",
              "    .colab-df-convert:hover {\n",
              "      background-color: #E2EBFA;\n",
              "      box-shadow: 0px 1px 2px rgba(60, 64, 67, 0.3), 0px 1px 3px 1px rgba(60, 64, 67, 0.15);\n",
              "      fill: #174EA6;\n",
              "    }\n",
              "\n",
              "    [theme=dark] .colab-df-convert {\n",
              "      background-color: #3B4455;\n",
              "      fill: #D2E3FC;\n",
              "    }\n",
              "\n",
              "    [theme=dark] .colab-df-convert:hover {\n",
              "      background-color: #434B5C;\n",
              "      box-shadow: 0px 1px 3px 1px rgba(0, 0, 0, 0.15);\n",
              "      filter: drop-shadow(0px 1px 2px rgba(0, 0, 0, 0.3));\n",
              "      fill: #FFFFFF;\n",
              "    }\n",
              "  </style>\n",
              "\n",
              "      <script>\n",
              "        const buttonEl =\n",
              "          document.querySelector('#df-00e8ebd3-46a8-4a2e-8c5c-5e01374d6de1 button.colab-df-convert');\n",
              "        buttonEl.style.display =\n",
              "          google.colab.kernel.accessAllowed ? 'block' : 'none';\n",
              "\n",
              "        async function convertToInteractive(key) {\n",
              "          const element = document.querySelector('#df-00e8ebd3-46a8-4a2e-8c5c-5e01374d6de1');\n",
              "          const dataTable =\n",
              "            await google.colab.kernel.invokeFunction('convertToInteractive',\n",
              "                                                     [key], {});\n",
              "          if (!dataTable) return;\n",
              "\n",
              "          const docLinkHtml = 'Like what you see? Visit the ' +\n",
              "            '<a target=\"_blank\" href=https://colab.research.google.com/notebooks/data_table.ipynb>data table notebook</a>'\n",
              "            + ' to learn more about interactive tables.';\n",
              "          element.innerHTML = '';\n",
              "          dataTable['output_type'] = 'display_data';\n",
              "          await google.colab.output.renderOutput(dataTable, element);\n",
              "          const docLink = document.createElement('div');\n",
              "          docLink.innerHTML = docLinkHtml;\n",
              "          element.appendChild(docLink);\n",
              "        }\n",
              "      </script>\n",
              "    </div>\n",
              "  </div>\n",
              "  "
            ]
          },
          "metadata": {},
          "execution_count": 8
        }
      ],
      "source": [
        "df.describe()"
      ]
    },
    {
      "cell_type": "code",
      "execution_count": 9,
      "metadata": {
        "colab": {
          "base_uri": "https://localhost:8080/"
        },
        "id": "mO8rD3XJU6Lw",
        "outputId": "a4a1ce2f-055a-4043-a773-69c392490f89"
      },
      "outputs": [
        {
          "output_type": "execute_result",
          "data": {
            "text/plain": [
              "0.0    69750\n",
              "1.0      107\n",
              "Name: isFraud, dtype: int64"
            ]
          },
          "metadata": {},
          "execution_count": 9
        }
      ],
      "source": [
        "df['isFraud'].value_counts()"
      ]
    },
    {
      "cell_type": "code",
      "source": [
        "fraud_counts = df[df['isFraud'] == 1]['type'].value_counts()\n",
        "non_fraud_counts = df[df['isFraud'] == 0]['type'].value_counts()\n",
        "\n",
        "plt.pie(fraud_counts, labels=fraud_counts.index, autopct='%1.1f%%', colors=['red', 'orange', 'blue', 'green', 'purple'])\n",
        "plt.title('Distribution of Fraud Transactions by Type')\n",
        "plt.show()"
      ],
      "metadata": {
        "id": "84zg6SrwGddY",
        "colab": {
          "base_uri": "https://localhost:8080/",
          "height": 428
        },
        "outputId": "16c1b1f3-0132-4b84-f4a8-1fe2cccfbaed"
      },
      "execution_count": 10,
      "outputs": [
        {
          "output_type": "display_data",
          "data": {
            "text/plain": [
              "<Figure size 640x480 with 1 Axes>"
            ],
            "image/png": "[encoded data removed]"
          },
          "metadata": {}
        }
      ]
    },
    {
      "cell_type": "code",
      "source": [
        "sns.boxplot(x='isFraud', y='amount', data=df)\n",
        "plt.title('Distribution of Transaction Amounts for Fraud and Non-Fraud Transactions')\n",
        "plt.xlabel('Fraud')\n",
        "plt.ylabel('Transaction Amount')\n",
        "plt.show()"
      ],
      "metadata": {
        "id": "FskxmRkKGlcp",
        "colab": {
          "base_uri": "https://localhost:8080/",
          "height": 487
        },
        "outputId": "0e4cd8e9-1bf4-4241-919f-5798b996b4f2"
      },
      "execution_count": 11,
      "outputs": [
        {
          "output_type": "display_data",
          "data": {
            "text/plain": [
              "<Figure size 640x480 with 1 Axes>"
            ],
            "image/png": "[encoded data removed]"
          },
          "metadata": {}
        }
      ]
    },
    {
      "cell_type": "code",
      "source": [
        "plt.scatter(df['amount'], df['oldbalanceOrg'] - df['newbalanceOrg'], c=df['isFraud'], cmap='coolwarm')\n",
        "plt.title('Transaction Amount vs. Originator Balance Difference')\n",
        "plt.xlabel('Transaction Amount')\n",
        "plt.ylabel('Originator Balance Difference')\n",
        "plt.colorbar(label='Fraud')\n",
        "plt.show()"
      ],
      "metadata": {
        "id": "ja2SD5tZGpsK"
      },
      "execution_count": null,
      "outputs": []
    },
    {
      "cell_type": "code",
      "source": [
        "recipient_counts = df['nameDest'].value_counts()\n",
        "fraud_recipient_counts = df[df['isFraud'] == 1]['nameDest'].value_counts()\n",
        "\n",
        "plt.bar(recipient_counts.index, recipient_counts.values, label='Non-Fraud')\n",
        "plt.bar(fraud_recipient_counts.index, fraud_recipient_counts.values, label='Fraud', color='red')\n",
        "plt.title('Transaction Counts by Recipient')\n",
        "plt.xlabel('Recipient')\n",
        "plt.ylabel('Transaction Count')\n",
        "plt.legend()\n",
        "plt.xticks(rotation=90)\n",
        "plt.show()"
      ],
      "metadata": {
        "id": "XYpnGODjGr8O",
        "colab": {
          "base_uri": "https://localhost:8080/",
          "height": 558
        },
        "outputId": "72182fb7-5c0a-47ef-ddb0-e8482cc165c0"
      },
      "execution_count": 13,
      "outputs": [
        {
          "output_type": "display_data",
          "data": {
            "text/plain": [
              "<Figure size 640x480 with 1 Axes>"
            ],
            "image/png": "[encoded data removed]"
          },
          "metadata": {}
        }
      ]
    },
    {
      "cell_type": "code",
      "execution_count": 14,
      "metadata": {
        "colab": {
          "base_uri": "https://localhost:8080/"
        },
        "id": "PLB2YdWqVZIp",
        "outputId": "47f41df8-f4e8-42b6-ba3d-5d58283dc903"
      },
      "outputs": [
        {
          "output_type": "stream",
          "name": "stdout",
          "text": [
            "PAYMENT     28732\n",
            "CASH_OUT    20389\n",
            "CASH_IN     13785\n",
            "TRANSFER     6173\n",
            "DEBIT         778\n",
            "Name: type, dtype: int64\n"
          ]
        }
      ],
      "source": [
        "print(df['type'].value_counts())"
      ]
    },
    {
      "cell_type": "code",
      "source": [
        "sns.countplot(data=df, x='type', palette='cool')"
      ],
      "metadata": {
        "colab": {
          "base_uri": "https://localhost:8080/",
          "height": 470
        },
        "id": "QyvkRA8wBftZ",
        "outputId": "5e10340c-5a19-4822-be68-d0ae5d821db2"
      },
      "execution_count": 15,
      "outputs": [
        {
          "output_type": "execute_result",
          "data": {
            "text/plain": [
              "<Axes: xlabel='type', ylabel='count'>"
            ]
          },
          "metadata": {},
          "execution_count": 15
        },
        {
          "output_type": "display_data",
          "data": {
            "text/plain": [
              "<Figure size 640x480 with 1 Axes>"
            ],
            "image/png": "[encoded data removed]"
          },
          "metadata": {}
        }
      ]
    },
    {
      "cell_type": "code",
      "execution_count": 16,
      "metadata": {
        "colab": {
          "base_uri": "https://localhost:8080/"
        },
        "id": "f7Mphm3kVbwO",
        "outputId": "c9a5fd55-2f60-46ad-ee33-1066bf465211"
      },
      "outputs": [
        {
          "output_type": "stream",
          "name": "stdout",
          "text": [
            "Number of Legit transactions:  69750\n",
            "Number of Fraud transactions:  107\n",
            "Percentage of Legit transactions: 99.8468 %\n",
            "Percentage of Fraud transactions: 0.1532 %\n"
          ]
        }
      ],
      "source": [
        "legit = len(df[df.isFraud == 0])\n",
        "\n",
        "fraud = len(df[df.isFraud == 1])\n",
        "\n",
        "legit_percent = (legit / (fraud + legit)) * 100\n",
        "\n",
        "fraud_percent = (fraud / (fraud + legit)) * 100\n",
        "\n",
        "print(\"Number of Legit transactions: \", legit)\n",
        "\n",
        "print(\"Number of Fraud transactions: \", fraud)\n",
        "\n",
        "print(\"Percentage of Legit transactions: {:.4f} %\".format(legit_percent))\n",
        "\n",
        "print(\"Percentage of Fraud transactions: {:.4f} %\".format(fraud_percent))"
      ]
    },
    {
      "cell_type": "code",
      "source": [
        "plt.figure(figsize=(5,10))\n",
        "labels = [\"Legit\", \"Fraud\"]\n",
        "count_classes = df.value_counts(df['isFraud'], sort= True)\n",
        "count_classes.plot(kind = \"bar\", rot = 0)\n",
        "plt.title(\"Visualization of Labels\")\n",
        "plt.ylabel(\"Count\")\n",
        "plt.xticks(range(2), labels)\n",
        "plt.show()"
      ],
      "metadata": {
        "colab": {
          "base_uri": "https://localhost:8080/",
          "height": 872
        },
        "id": "T2V5qMsv60Bi",
        "outputId": "d069f838-f282-45ba-ef8a-349701529fea"
      },
      "execution_count": 17,
      "outputs": [
        {
          "output_type": "display_data",
          "data": {
            "text/plain": [
              "<Figure size 500x1000 with 1 Axes>"
            ],
            "image/png": "[encoded data removed]"
          },
          "metadata": {}
        }
      ]
    },
    {
      "cell_type": "code",
      "source": [
        "corr=df.corr()\n",
        "\n",
        "plt.figure(figsize=(10,6))\n",
        "sns.heatmap(corr,annot=True)"
      ],
      "metadata": {
        "colab": {
          "base_uri": "https://localhost:8080/",
          "height": 701
        },
        "id": "1CXez4VbB12p",
        "outputId": "95b3cdfa-35ce-490d-e6a7-1307a358af16"
      },
      "execution_count": 18,
      "outputs": [
        {
          "output_type": "stream",
          "name": "stderr",
          "text": [
            "<ipython-input-18-b43972a5c17a>:1: FutureWarning: The default value of numeric_only in DataFrame.corr is deprecated. In a future version, it will default to False. Select only valid columns or specify the value of numeric_only to silence this warning.\n",
            "  corr=df.corr()\n"
          ]
        },
        {
          "output_type": "execute_result",
          "data": {
            "text/plain": [
              "<Axes: >"
            ]
          },
          "metadata": {},
          "execution_count": 18
        },
        {
          "output_type": "display_data",
          "data": {
            "text/plain": [
              "<Figure size 1000x600 with 2 Axes>"
            ],
            "image/png": "[encoded data removed]"
          },
          "metadata": {}
        }
      ]
    },
    {
      "cell_type": "code",
      "execution_count": 19,
      "metadata": {
        "colab": {
          "base_uri": "https://localhost:8080/",
          "height": 206
        },
        "id": "sAEpHFr4dKR4",
        "outputId": "fc467a9b-2d28-4801-a304-68d7363d763d"
      },
      "outputs": [
        {
          "output_type": "execute_result",
          "data": {
            "text/plain": [
              "   step      type    amount     nameOrig  oldbalanceOrg  newbalanceOrig  \\\n",
              "0     1   PAYMENT   9839.64  C1231006815       170136.0       160296.36   \n",
              "1     1   PAYMENT   1864.28  C1666544295        21249.0        19384.72   \n",
              "2     1  TRANSFER    181.00  C1305486145          181.0            0.00   \n",
              "3     1  CASH_OUT    181.00   C840083671          181.0            0.00   \n",
              "4     1   PAYMENT  11668.14  C2048537720        41554.0        29885.86   \n",
              "\n",
              "      nameDest  oldbalanceDest  newbalanceDest  isFraud  isFlaggedFraud  \n",
              "0  M1979787155             0.0             0.0      0.0             0.0  \n",
              "1  M2044282225             0.0             0.0      0.0             0.0  \n",
              "2   C553264065             0.0             0.0      1.0             0.0  \n",
              "3    C38997010         21182.0             0.0      1.0             0.0  \n",
              "4  M1230701703             0.0             0.0      0.0             0.0  "
            ],
            "text/html": [
              "\n",
              "  <div id=\"df-ef56b884-2934-437b-a774-29ab0c68dea4\">\n",
              "    <div class=\"colab-df-container\">\n",
              "      <div>\n",
              "<style scoped>\n",
              "    .dataframe tbody tr th:only-of-type {\n",
              "        vertical-align: middle;\n",
              "    }\n",
              "\n",
              "    .dataframe tbody tr th {\n",
              "        vertical-align: top;\n",
              "    }\n",
              "\n",
              "    .dataframe thead th {\n",
              "        text-align: right;\n",
              "    }\n",
              "</style>\n",
              "<table border=\"1\" class=\"dataframe\">\n",
              "  <thead>\n",
              "    <tr style=\"text-align: right;\">\n",
              "      <th></th>\n",
              "      <th>step</th>\n",
              "      <th>type</th>\n",
              "      <th>amount</th>\n",
              "      <th>nameOrig</th>\n",
              "      <th>oldbalanceOrg</th>\n",
              "      <th>newbalanceOrig</th>\n",
              "      <th>nameDest</th>\n",
              "      <th>oldbalanceDest</th>\n",
              "      <th>newbalanceDest</th>\n",
              "      <th>isFraud</th>\n",
              "      <th>isFlaggedFraud</th>\n",
              "    </tr>\n",
              "  </thead>\n",
              "  <tbody>\n",
              "    <tr>\n",
              "      <th>0</th>\n",
              "      <td>1</td>\n",
              "      <td>PAYMENT</td>\n",
              "      <td>9839.64</td>\n",
              "      <td>C1231006815</td>\n",
              "      <td>170136.0</td>\n",
              "      <td>160296.36</td>\n",
              "      <td>M1979787155</td>\n",
              "      <td>0.0</td>\n",
              "      <td>0.0</td>\n",
              "      <td>0.0</td>\n",
              "      <td>0.0</td>\n",
              "    </tr>\n",
              "    <tr>\n",
              "      <th>1</th>\n",
              "      <td>1</td>\n",
              "      <td>PAYMENT</td>\n",
              "      <td>1864.28</td>\n",
              "      <td>C1666544295</td>\n",
              "      <td>21249.0</td>\n",
              "      <td>19384.72</td>\n",
              "      <td>M2044282225</td>\n",
              "      <td>0.0</td>\n",
              "      <td>0.0</td>\n",
              "      <td>0.0</td>\n",
              "      <td>0.0</td>\n",
              "    </tr>\n",
              "    <tr>\n",
              "      <th>2</th>\n",
              "      <td>1</td>\n",
              "      <td>TRANSFER</td>\n",
              "      <td>181.00</td>\n",
              "      <td>C1305486145</td>\n",
              "      <td>181.0</td>\n",
              "      <td>0.00</td>\n",
              "      <td>C553264065</td>\n",
              "      <td>0.0</td>\n",
              "      <td>0.0</td>\n",
              "      <td>1.0</td>\n",
              "      <td>0.0</td>\n",
              "    </tr>\n",
              "    <tr>\n",
              "      <th>3</th>\n",
              "      <td>1</td>\n",
              "      <td>CASH_OUT</td>\n",
              "      <td>181.00</td>\n",
              "      <td>C840083671</td>\n",
              "      <td>181.0</td>\n",
              "      <td>0.00</td>\n",
              "      <td>C38997010</td>\n",
              "      <td>21182.0</td>\n",
              "      <td>0.0</td>\n",
              "      <td>1.0</td>\n",
              "      <td>0.0</td>\n",
              "    </tr>\n",
              "    <tr>\n",
              "      <th>4</th>\n",
              "      <td>1</td>\n",
              "      <td>PAYMENT</td>\n",
              "      <td>11668.14</td>\n",
              "      <td>C2048537720</td>\n",
              "      <td>41554.0</td>\n",
              "      <td>29885.86</td>\n",
              "      <td>M1230701703</td>\n",
              "      <td>0.0</td>\n",
              "      <td>0.0</td>\n",
              "      <td>0.0</td>\n",
              "      <td>0.0</td>\n",
              "    </tr>\n",
              "  </tbody>\n",
              "</table>\n",
              "</div>\n",
              "      <button class=\"colab-df-convert\" onclick=\"convertToInteractive('df-ef56b884-2934-437b-a774-29ab0c68dea4')\"\n",
              "              title=\"Convert this dataframe to an interactive table.\"\n",
              "              style=\"display:none;\">\n",
              "        \n",
              "  <svg xmlns=\"http://www.w3.org/2000/svg\" height=\"24px\"viewBox=\"0 0 24 24\"\n",
              "       width=\"24px\">\n",
              "    <path d=\"M0 0h24v24H0V0z\" fill=\"none\"/>\n",
              "    <path d=\"M18.56 5.44l.94 2.06.94-2.06 2.06-.94-2.06-.94-.94-2.06-.94 2.06-2.06.94zm-11 1L8.5 8.5l.94-2.06 2.06-.94-2.06-.94L8.5 2.5l-.94 2.06-2.06.94zm10 10l.94 2.06.94-2.06 2.06-.94-2.06-.94-.94-2.06-.94 2.06-2.06.94z\"/><path d=\"M17.41 7.96l-1.37-1.37c-.4-.4-.92-.59-1.43-.59-.52 0-1.04.2-1.43.59L10.3 9.45l-7.72 7.72c-.78.78-.78 2.05 0 2.83L4 21.41c.39.39.9.59 1.41.59.51 0 1.02-.2 1.41-.59l7.78-7.78 2.81-2.81c.8-.78.8-2.07 0-2.86zM5.41 20L4 18.59l7.72-7.72 1.47 1.35L5.41 20z\"/>\n",
              "  </svg>\n",
              "      </button>\n",
              "      \n",
              "  <style>\n",
              "    .colab-df-container {\n",
              "      display:flex;\n",
              "      flex-wrap:wrap;\n",
              "      gap: 12px;\n",
              "    }\n",
              "\n",
              "    .colab-df-convert {\n",
              "      background-color: #E8F0FE;\n",
              "      border: none;\n",
              "      border-radius: 50%;\n",
              "      cursor: pointer;\n",
              "      display: none;\n",
              "      fill: #1967D2;\n",
              "      height: 32px;\n",
              "      padding: 0 0 0 0;\n",
              "      width: 32px;\n",
              "    }\n",
              "\n",
              "    .colab-df-convert:hover {\n",
              "      background-color: #E2EBFA;\n",
              "      box-shadow: 0px 1px 2px rgba(60, 64, 67, 0.3), 0px 1px 3px 1px rgba(60, 64, 67, 0.15);\n",
              "      fill: #174EA6;\n",
              "    }\n",
              "\n",
              "    [theme=dark] .colab-df-convert {\n",
              "      background-color: #3B4455;\n",
              "      fill: #D2E3FC;\n",
              "    }\n",
              "\n",
              "    [theme=dark] .colab-df-convert:hover {\n",
              "      background-color: #434B5C;\n",
              "      box-shadow: 0px 1px 3px 1px rgba(0, 0, 0, 0.15);\n",
              "      filter: drop-shadow(0px 1px 2px rgba(0, 0, 0, 0.3));\n",
              "      fill: #FFFFFF;\n",
              "    }\n",
              "  </style>\n",
              "\n",
              "      <script>\n",
              "        const buttonEl =\n",
              "          document.querySelector('#df-ef56b884-2934-437b-a774-29ab0c68dea4 button.colab-df-convert');\n",
              "        buttonEl.style.display =\n",
              "          google.colab.kernel.accessAllowed ? 'block' : 'none';\n",
              "\n",
              "        async function convertToInteractive(key) {\n",
              "          const element = document.querySelector('#df-ef56b884-2934-437b-a774-29ab0c68dea4');\n",
              "          const dataTable =\n",
              "            await google.colab.kernel.invokeFunction('convertToInteractive',\n",
              "                                                     [key], {});\n",
              "          if (!dataTable) return;\n",
              "\n",
              "          const docLinkHtml = 'Like what you see? Visit the ' +\n",
              "            '<a target=\"_blank\" href=https://colab.research.google.com/notebooks/data_table.ipynb>data table notebook</a>'\n",
              "            + ' to learn more about interactive tables.';\n",
              "          element.innerHTML = '';\n",
              "          dataTable['output_type'] = 'display_data';\n",
              "          await google.colab.output.renderOutput(dataTable, element);\n",
              "          const docLink = document.createElement('div');\n",
              "          docLink.innerHTML = docLinkHtml;\n",
              "          element.appendChild(docLink);\n",
              "        }\n",
              "      </script>\n",
              "    </div>\n",
              "  </div>\n",
              "  "
            ]
          },
          "metadata": {},
          "execution_count": 19
        }
      ],
      "source": [
        "#Creating a copy of dataset\n",
        "\n",
        "df1 = df.copy()\n",
        "\n",
        "df1.head()"
      ]
    },
    {
      "cell_type": "code",
      "execution_count": 20,
      "metadata": {
        "colab": {
          "base_uri": "https://localhost:8080/"
        },
        "id": "HDIHls0pMb2W",
        "outputId": "79714002-29d0-45a0-c5ed-71ee6d85894a"
      },
      "outputs": [
        {
          "output_type": "stream",
          "name": "stdout",
          "text": [
            "Unique values in column 'step': [1 2 3 4 5 6 7 8 9]\n",
            "Unique values in column 'type': ['PAYMENT' 'TRANSFER' 'CASH_OUT' 'DEBIT' 'CASH_IN']\n",
            "Unique values in column 'amount': [9839.64 1864.28  181.   ... 2866.47 2926.88 3704.3 ]\n",
            "Unique values in column 'nameOrig': ['C1231006815' 'C1666544295' 'C1305486145' ... 'C258151288' 'C145336381'\n",
            " 'C1539334900']\n",
            "Unique values in column 'oldbalanceOrg': [1.70136000e+05 2.12490000e+04 1.81000000e+02 ... 1.21802423e+06\n",
            " 1.12954949e+06 1.07812000e+05]\n",
            "Unique values in column 'newbalanceOrig': [ 160296.36   19384.72       0.   ...  342150.54 1129549.49 1128519.13]\n",
            "Unique values in column 'nameDest': ['M1979787155' 'M2044282225' 'C553264065' ... 'M1910014593' 'M1278169306'\n",
            " 'M1849245575']\n",
            "Unique values in column 'oldbalanceDest': [      0.     21182.     41898.   ... 1203910.56   50298.    103596.  ]\n",
            "Unique values in column 'newbalanceDest': [     0.    40348.79 157982.12 ... 304887.13 307990.27 303651.85]\n",
            "Unique values in column 'isFraud': [0. 1.]\n",
            "Unique values in column 'isFlaggedFraud': [0.]\n"
          ]
        }
      ],
      "source": [
        "import pandas as pd\n",
        "\n",
        "for column in df1.columns:\n",
        "    unique_values = df1[column].unique()\n",
        "    print(f\"Unique values in column '{column}': {unique_values}\")"
      ]
    },
    {
      "cell_type": "code",
      "execution_count": 21,
      "metadata": {
        "id": "2F04P3ZlOyOf"
      },
      "outputs": [],
      "source": [
        "from sklearn.preprocessing import LabelEncoder , OneHotEncoder\n",
        "\n",
        "label_encoder = LabelEncoder()\n",
        "df1['type_encoded'] = label_encoder.fit_transform(df1['type'])\n",
        "df1['nameOrig_encoded'] = label_encoder.fit_transform(df1['nameOrig'])\n",
        "df1['nameDest_encoded'] = label_encoder.fit_transform(df1['nameDest'])"
      ]
    },
    {
      "cell_type": "code",
      "execution_count": 22,
      "metadata": {
        "colab": {
          "base_uri": "https://localhost:8080/"
        },
        "id": "V0HFrR8QPO-9",
        "outputId": "5e521451-5182-431c-f896-ba25554d79fc"
      },
      "outputs": [
        {
          "output_type": "stream",
          "name": "stdout",
          "text": [
            "Encoded values in column 'type_encoded': [3 4 1 2 0]\n",
            "Encoded values in column 'nameOrig_encoded': [ 8190 23978 10826 ... 42876 16243 19351]\n",
            "Encoded values in column 'nameDest_encoded': [23754 24694  7155 ... 22691 13295 21794]\n"
          ]
        }
      ],
      "source": [
        "print(\"Encoded values in column 'type_encoded':\", df1['type_encoded'].unique())\n",
        "print(\"Encoded values in column 'nameOrig_encoded':\", df1['nameOrig_encoded'].unique())\n",
        "print(\"Encoded values in column 'nameDest_encoded':\", df1['nameDest_encoded'].unique())"
      ]
    },
    {
      "cell_type": "code",
      "execution_count": 23,
      "metadata": {
        "id": "uQjJkknNXdwQ"
      },
      "outputs": [],
      "source": [
        "one_hot_encoded = pd.get_dummies(df1['type'], prefix='type')\n",
        "\n",
        "df1 = pd.concat([df1, one_hot_encoded], axis=1)\n",
        "\n",
        "df1.drop('type', axis=1, inplace=True)"
      ]
    },
    {
      "cell_type": "code",
      "execution_count": 24,
      "metadata": {
        "colab": {
          "base_uri": "https://localhost:8080/"
        },
        "id": "8Qvk101dkDsV",
        "outputId": "7a2b0607-93da-45a5-d572-909ab00fcdce"
      },
      "outputs": [
        {
          "output_type": "stream",
          "name": "stdout",
          "text": [
            "           variables         VIF\n",
            "0               step    5.478526\n",
            "1             amount    1.928360\n",
            "2      oldbalanceOrg  615.245422\n",
            "3     newbalanceOrig  622.080947\n",
            "4     oldbalanceDest    9.339876\n",
            "5     newbalanceDest   10.541315\n",
            "6            isFraud    1.033502\n",
            "7     isFlaggedFraud         NaN\n",
            "8       type_encoded    6.013796\n",
            "9   nameOrig_encoded    3.569509\n",
            "10  nameDest_encoded    4.514813\n"
          ]
        },
        {
          "output_type": "stream",
          "name": "stderr",
          "text": [
            "/usr/local/lib/python3.10/dist-packages/statsmodels/regression/linear_model.py:1754: RuntimeWarning: invalid value encountered in double_scalars\n",
            "  return 1 - self.ssr/self.uncentered_tss\n"
          ]
        }
      ],
      "source": [
        "from statsmodels.stats.outliers_influence import variance_inflation_factor\n",
        "\n",
        "def calc_vif(df):\n",
        "    numeric_cols = df.select_dtypes(include=['float64', 'int64']).columns\n",
        "    numeric_df = df[numeric_cols]\n",
        "\n",
        "    numeric_df = numeric_df.dropna()\n",
        "\n",
        "    vif = pd.DataFrame()\n",
        "    vif[\"variables\"] = numeric_df.columns\n",
        "    vif[\"VIF\"] = [variance_inflation_factor(numeric_df.values, i) for i in range(numeric_df.shape[1])]\n",
        "\n",
        "    return vif\n",
        "\n",
        "vif_results = calc_vif(df1)\n",
        "print(vif_results)"
      ]
    },
    {
      "cell_type": "code",
      "source": [
        "# Group the data by time step and fraud status\n",
        "time_fraud_counts = df.groupby(['step', 'isFraud']).size().unstack()\n",
        "\n",
        "# Plot the count of fraud and non-fraud transactions by time step\n",
        "plt.figure(figsize=(10, 6))\n",
        "plt.plot(time_fraud_counts.index, time_fraud_counts[1], label='Fraud')\n",
        "plt.plot(time_fraud_counts.index, time_fraud_counts[0], label='Non-Fraud')\n",
        "plt.xlabel('Time Step')\n",
        "plt.ylabel('Transaction Count')\n",
        "plt.title('Fraud and Non-Fraud Transactions Count by Time Step')\n",
        "plt.legend()\n",
        "plt.show()"
      ],
      "metadata": {
        "colab": {
          "base_uri": "https://localhost:8080/",
          "height": 564
        },
        "id": "p_KjWDK38Qhy",
        "outputId": "ee00cf39-56a7-44ff-c523-0f56581d31f4"
      },
      "execution_count": 25,
      "outputs": [
        {
          "output_type": "display_data",
          "data": {
            "text/plain": [
              "<Figure size 1000x600 with 1 Axes>"
            ],
            "image/png": "[encoded data removed]"
          },
          "metadata": {}
        }
      ]
    },
    {
      "cell_type": "code",
      "execution_count": 27,
      "metadata": {
        "id": "1-5hZGX_kfwV"
      },
      "outputs": [],
      "source": [
        "from sklearn.model_selection import train_test_split"
      ]
    },
    {
      "cell_type": "code",
      "execution_count": 28,
      "metadata": {
        "id": "AXLE1KEdlvLv"
      },
      "outputs": [],
      "source": [
        "df1 = df1.drop(['nameOrig', 'nameDest'], axis=1)"
      ]
    },
    {
      "cell_type": "code",
      "execution_count": 29,
      "metadata": {
        "colab": {
          "base_uri": "https://localhost:8080/"
        },
        "id": "6S0QQpbBlzKZ",
        "outputId": "05da29c5-75f5-4254-cb83-f8f7cea60b45"
      },
      "outputs": [
        {
          "output_type": "execute_result",
          "data": {
            "text/plain": [
              "Index(['step', 'amount', 'oldbalanceOrg', 'newbalanceOrig', 'oldbalanceDest',\n",
              "       'newbalanceDest', 'isFraud', 'isFlaggedFraud', 'type_encoded',\n",
              "       'nameOrig_encoded', 'nameDest_encoded', 'type_CASH_IN', 'type_CASH_OUT',\n",
              "       'type_DEBIT', 'type_PAYMENT', 'type_TRANSFER'],\n",
              "      dtype='object')"
            ]
          },
          "metadata": {},
          "execution_count": 29
        }
      ],
      "source": [
        "df1.columns"
      ]
    },
    {
      "cell_type": "code",
      "execution_count": 30,
      "metadata": {
        "id": "m6DbsA-qnniy"
      },
      "outputs": [],
      "source": [
        "X = df1.drop([\"isFraud\"], axis= 1)\n",
        "Y = df1[\"isFraud\"]"
      ]
    },
    {
      "cell_type": "code",
      "execution_count": 31,
      "metadata": {
        "colab": {
          "base_uri": "https://localhost:8080/"
        },
        "id": "oLuXnv2fn9Os",
        "outputId": "60e29aaa-0d1e-47c0-8175-d5a40ebb858a"
      },
      "outputs": [
        {
          "output_type": "stream",
          "name": "stdout",
          "text": [
            "Shape of X_train:  (48899, 15)\n",
            "Shape of X_test:  (20958, 15)\n"
          ]
        }
      ],
      "source": [
        "x_train, x_test, y_train, y_test = train_test_split(X, Y, test_size= 0.3, random_state= 42)\n",
        "\n",
        "print(\"Shape of X_train: \", x_train.shape)\n",
        "print(\"Shape of X_test: \", x_test.shape)"
      ]
    },
    {
      "cell_type": "code",
      "execution_count": 32,
      "metadata": {
        "id": "bX2qkzjsl5Fj"
      },
      "outputs": [],
      "source": [
        "from sklearn.preprocessing import StandardScaler\n",
        "\n",
        "std_scaler = StandardScaler()\n",
        "data_scaled = pd.DataFrame(std_scaler.fit_transform(df1.loc[:,~df1.columns.isin(['isFraud'])]))\n",
        "data_scaled.columns = df1.columns[:-1]\n",
        "data_scaled['isFraud'] = df1['isFraud']"
      ]
    },
    {
      "cell_type": "code",
      "execution_count": 33,
      "metadata": {
        "id": "gTp8WxPrqDmM"
      },
      "outputs": [],
      "source": [
        "from sklearn.model_selection import GridSearchCV, cross_val_score, StratifiedKFold\n",
        "from imblearn.over_sampling import SMOTE\n",
        "from sklearn.metrics import classification_report , confusion_matrix,accuracy_score, f1_score, precision_score, recall_score, roc_auc_score, roc_curve, auc\n",
        "from sklearn import metrics"
      ]
    },
    {
      "cell_type": "code",
      "execution_count": 34,
      "metadata": {
        "id": "Do5kf-zOp52J"
      },
      "outputs": [],
      "source": [
        "x_train, y_train = SMOTE().fit_resample(x_train, y_train)"
      ]
    },
    {
      "cell_type": "code",
      "execution_count": null,
      "metadata": {
        "colab": {
          "base_uri": "https://localhost:8080/"
        },
        "id": "dFTJyApTrkb1",
        "outputId": "9c33aa80-da98-4b02-8868-c6c4fe6bf5c6"
      },
      "outputs": [
        {
          "output_type": "stream",
          "name": "stdout",
          "text": [
            "Best parameters:  {'C': 100, 'penalty': 'l1'}\n",
            "Best score:  0.9984334250259129\n",
            "CV results: [0.9936996  0.99319556 0.9936996  0.99420217 0.99268969]\n",
            "Mean CV accuracy: 0.9934973231783178\n"
          ]
        }
      ],
      "source": [
        "from sklearn.linear_model import LogisticRegression\n",
        "from sklearn.exceptions import ConvergenceWarning\n",
        "import warnings\n",
        "\n",
        "# To Suppress the ConvergenceWarning\n",
        "warnings.filterwarnings(\"ignore\", category=ConvergenceWarning)\n",
        "\n",
        "LR = LogisticRegression(solver='liblinear', max_iter=1000)\n",
        "\n",
        "param_grid = {\n",
        "    'penalty': ['l1', 'l2'],\n",
        "    'C': [0.001, 0.01, 0.1, 1, 10, 100],\n",
        "}\n",
        "\n",
        "skf = StratifiedKFold(n_splits=5, shuffle=True, random_state=42)\n",
        "\n",
        "grid_search = GridSearchCV(estimator=LR, param_grid=param_grid, cv=skf, scoring='roc_auc')\n",
        "grid_search.fit(x_train, y_train)\n",
        "\n",
        "print(\"Best parameters: \", grid_search.best_params_)\n",
        "print(\"Best score: \", grid_search.best_score_)\n",
        "\n",
        "#Cross-validation\n",
        "cv_results = cross_val_score(grid_search.best_estimator_, x_train, y_train, cv=skf)\n",
        "print(\"CV results:\", cv_results)\n",
        "print(\"Mean CV accuracy:\", cv_results.mean())"
      ]
    },
    {
      "cell_type": "code",
      "execution_count": null,
      "metadata": {
        "colab": {
          "base_uri": "https://localhost:8080/",
          "height": 74
        },
        "id": "Y-l4u4k8s_KV",
        "outputId": "d6c55e6c-9628-491d-bf1b-c576cb1e1ce2"
      },
      "outputs": [
        {
          "output_type": "execute_result",
          "data": {
            "text/plain": [
              "LogisticRegression(C=100, penalty='l1', random_state=42, solver='liblinear')"
            ],
            "text/html": [
              "<style>#sk-container-id-1 {color: black;background-color: white;}#sk-container-id-1 pre{padding: 0;}#sk-container-id-1 div.sk-toggleable {background-color: white;}#sk-container-id-1 label.sk-toggleable__label {cursor: pointer;display: block;width: 100%;margin-bottom: 0;padding: 0.3em;box-sizing: border-box;text-align: center;}#sk-container-id-1 label.sk-toggleable__label-arrow:before {content: \"▸\";float: left;margin-right: 0.25em;color: #696969;}#sk-container-id-1 label.sk-toggleable__label-arrow:hover:before {color: black;}#sk-container-id-1 div.sk-estimator:hover label.sk-toggleable__label-arrow:before {color: black;}#sk-container-id-1 div.sk-toggleable__content {max-height: 0;max-width: 0;overflow: hidden;text-align: left;background-color: #f0f8ff;}#sk-container-id-1 div.sk-toggleable__content pre {margin: 0.2em;color: black;border-radius: 0.25em;background-color: #f0f8ff;}#sk-container-id-1 input.sk-toggleable__control:checked~div.sk-toggleable__content {max-height: 200px;max-width: 100%;overflow: auto;}#sk-container-id-1 input.sk-toggleable__control:checked~label.sk-toggleable__label-arrow:before {content: \"▾\";}#sk-container-id-1 div.sk-estimator input.sk-toggleable__control:checked~label.sk-toggleable__label {background-color: #d4ebff;}#sk-container-id-1 div.sk-label input.sk-toggleable__control:checked~label.sk-toggleable__label {background-color: #d4ebff;}#sk-container-id-1 input.sk-hidden--visually {border: 0;clip: rect(1px 1px 1px 1px);clip: rect(1px, 1px, 1px, 1px);height: 1px;margin: -1px;overflow: hidden;padding: 0;position: absolute;width: 1px;}#sk-container-id-1 div.sk-estimator {font-family: monospace;background-color: #f0f8ff;border: 1px dotted black;border-radius: 0.25em;box-sizing: border-box;margin-bottom: 0.5em;}#sk-container-id-1 div.sk-estimator:hover {background-color: #d4ebff;}#sk-container-id-1 div.sk-parallel-item::after {content: \"\";width: 100%;border-bottom: 1px solid gray;flex-grow: 1;}#sk-container-id-1 div.sk-label:hover label.sk-toggleable__label {background-color: #d4ebff;}#sk-container-id-1 div.sk-serial::before {content: \"\";position: absolute;border-left: 1px solid gray;box-sizing: border-box;top: 0;bottom: 0;left: 50%;z-index: 0;}#sk-container-id-1 div.sk-serial {display: flex;flex-direction: column;align-items: center;background-color: white;padding-right: 0.2em;padding-left: 0.2em;position: relative;}#sk-container-id-1 div.sk-item {position: relative;z-index: 1;}#sk-container-id-1 div.sk-parallel {display: flex;align-items: stretch;justify-content: center;background-color: white;position: relative;}#sk-container-id-1 div.sk-item::before, #sk-container-id-1 div.sk-parallel-item::before {content: \"\";position: absolute;border-left: 1px solid gray;box-sizing: border-box;top: 0;bottom: 0;left: 50%;z-index: -1;}#sk-container-id-1 div.sk-parallel-item {display: flex;flex-direction: column;z-index: 1;position: relative;background-color: white;}#sk-container-id-1 div.sk-parallel-item:first-child::after {align-self: flex-end;width: 50%;}#sk-container-id-1 div.sk-parallel-item:last-child::after {align-self: flex-start;width: 50%;}#sk-container-id-1 div.sk-parallel-item:only-child::after {width: 0;}#sk-container-id-1 div.sk-dashed-wrapped {border: 1px dashed gray;margin: 0 0.4em 0.5em 0.4em;box-sizing: border-box;padding-bottom: 0.4em;background-color: white;}#sk-container-id-1 div.sk-label label {font-family: monospace;font-weight: bold;display: inline-block;line-height: 1.2em;}#sk-container-id-1 div.sk-label-container {text-align: center;}#sk-container-id-1 div.sk-container {/* jupyter's `normalize.less` sets `[hidden] { display: none; }` but bootstrap.min.css set `[hidden] { display: none !important; }` so we also need the `!important` here to be able to override the default hidden behavior on the sphinx rendered scikit-learn.org. See: https://github.com/scikit-learn/scikit-learn/issues/21755 */display: inline-block !important;position: relative;}#sk-container-id-1 div.sk-text-repr-fallback {display: none;}</style><div id=\"sk-container-id-1\" class=\"sk-top-container\"><div class=\"sk-text-repr-fallback\"><pre>LogisticRegression(C=100, penalty=&#x27;l1&#x27;, random_state=42, solver=&#x27;liblinear&#x27;)</pre><b>In a Jupyter environment, please rerun this cell to show the HTML representation or trust the notebook. <br />On GitHub, the HTML representation is unable to render, please try loading this page with nbviewer.org.</b></div><div class=\"sk-container\" hidden><div class=\"sk-item\"><div class=\"sk-estimator sk-toggleable\"><input class=\"sk-toggleable__control sk-hidden--visually\" id=\"sk-estimator-id-1\" type=\"checkbox\" checked><label for=\"sk-estimator-id-1\" class=\"sk-toggleable__label sk-toggleable__label-arrow\">LogisticRegression</label><div class=\"sk-toggleable__content\"><pre>LogisticRegression(C=100, penalty=&#x27;l1&#x27;, random_state=42, solver=&#x27;liblinear&#x27;)</pre></div></div></div></div></div>"
            ]
          },
          "metadata": {},
          "execution_count": 34
        }
      ],
      "source": [
        "LR = LogisticRegression(C = 100, penalty = 'l1', solver = 'liblinear', random_state = 42)\n",
        "\n",
        "LR.fit(x_train, y_train)"
      ]
    },
    {
      "cell_type": "code",
      "execution_count": null,
      "metadata": {
        "id": "E-5EQiyOtF0F"
      },
      "outputs": [],
      "source": [
        "y_pred_LR = LR.predict(x_test)"
      ]
    },
    {
      "cell_type": "code",
      "execution_count": null,
      "metadata": {
        "colab": {
          "base_uri": "https://localhost:8080/"
        },
        "id": "GdpMR6dztI-3",
        "outputId": "a2ebb68f-ed0a-4980-a986-201fe8efc56c"
      },
      "outputs": [
        {
          "output_type": "stream",
          "name": "stdout",
          "text": [
            "              precision    recall  f1-score   support\n",
            "\n",
            "         0.0       1.00      0.97      0.99      4249\n",
            "         1.0       0.18      0.92      0.29        25\n",
            "\n",
            "    accuracy                           0.97      4274\n",
            "   macro avg       0.59      0.95      0.64      4274\n",
            "weighted avg       0.99      0.97      0.98      4274\n",
            "\n",
            "[[4141  108]\n",
            " [   2   23]]\n"
          ]
        }
      ],
      "source": [
        "print(classification_report(y_test, y_pred_LR))\n",
        "print(confusion_matrix(y_test,y_pred_LR))"
      ]
    },
    {
      "cell_type": "code",
      "execution_count": null,
      "metadata": {
        "colab": {
          "base_uri": "https://localhost:8080/"
        },
        "id": "93ZrfhnItdmw",
        "outputId": "b6d5c543-b1ff-49c7-d303-91d4ece5fc7b"
      },
      "outputs": [
        {
          "output_type": "stream",
          "name": "stdout",
          "text": [
            "TP,FP,TN,FN - Logistic Regression\n",
            "True Positives: 23\n",
            "False Positives: 108\n",
            "True Negatives: 4141\n",
            "False Negatives: 2\n"
          ]
        }
      ],
      "source": [
        "print(\"TP,FP,TN,FN - Logistic Regression\")\n",
        "tn, fp, fn, tp = confusion_matrix(y_test, y_pred_LR).ravel()\n",
        "print(f'True Positives: {tp}')\n",
        "print(f'False Positives: {fp}')\n",
        "print(f'True Negatives: {tn}')\n",
        "print(f'False Negatives: {fn}')"
      ]
    },
    {
      "cell_type": "code",
      "execution_count": null,
      "metadata": {
        "colab": {
          "base_uri": "https://localhost:8080/"
        },
        "id": "Tv7_vcLuKmnK",
        "outputId": "cbc8ee43-e154-4a4b-d237-0d9259642903"
      },
      "outputs": [
        {
          "output_type": "stream",
          "name": "stdout",
          "text": [
            "AUROC:  0.9472911273240762\n"
          ]
        }
      ],
      "source": [
        "AUROC_LR = roc_auc_score(y_test, y_pred_LR)\n",
        "print(\"AUROC: \", AUROC_LR)"
      ]
    },
    {
      "cell_type": "code",
      "execution_count": null,
      "metadata": {
        "colab": {
          "background_save": true
        },
        "id": "s4vvxgYGt9NC"
      },
      "outputs": [],
      "source": [
        "#Best score:  0.9942356220804361\n",
        "#TP : 35, FP: 802, TN: 24228, FN: 3\n",
        "#AUROC score for LR is 0.94450"
      ]
    },
    {
      "cell_type": "code",
      "execution_count": null,
      "metadata": {
        "colab": {
          "base_uri": "https://localhost:8080/",
          "height": 472
        },
        "id": "dmvDigQ7wd6R",
        "outputId": "b3060b82-2608-480c-858a-41318d07f75a"
      },
      "outputs": [
        {
          "output_type": "display_data",
          "data": {
            "text/plain": [
              "<Figure size 640x480 with 1 Axes>"
            ],
            "image/png": "[encoded data removed]"
          },
          "metadata": {}
        }
      ],
      "source": [
        "fpr, tpr, threshold = metrics.roc_curve(y_test, y_pred_LR)\n",
        "roc_auc = metrics.auc(fpr, tpr)\n",
        "\n",
        "plt.title('ROC - LR')\n",
        "plt.plot(fpr, tpr, 'b', label = 'AUC = %0.2f' % roc_auc)\n",
        "plt.legend(loc = 'lower right')\n",
        "plt.plot([0, 1], [0, 1],'r--')\n",
        "plt.xlim([0, 1])\n",
        "plt.ylim([0, 1])\n",
        "plt.ylabel('True Positive Rate')\n",
        "plt.xlabel('False Positive Rate')\n",
        "plt.show()\n"
      ]
    },
    {
      "cell_type": "code",
      "execution_count": null,
      "metadata": {
        "colab": {
          "base_uri": "https://localhost:8080/"
        },
        "id": "5cWqVgCtt3KV",
        "outputId": "a3a73f85-d4d1-4152-dac1-8aefeec67389"
      },
      "outputs": [
        {
          "output_type": "stream",
          "name": "stdout",
          "text": [
            "Best parameters:  {'algorithm': 'ball_tree', 'n_neighbors': 9, 'weights': 'distance'}\n",
            "Best score:  0.9223496311239225\n",
            "Stratified KFold Cross-Validation Results:\n",
            "Mean CV accuracy: 0.9223496311239225\n"
          ]
        }
      ],
      "source": [
        "from sklearn.neighbors import KNeighborsClassifier\n",
        "\n",
        "KNN = KNeighborsClassifier()\n",
        "\n",
        "param_grid = {\n",
        "    'n_neighbors': [2, 3, 4, 5, 6, 7, 8, 9, 10, 11],\n",
        "    'weights': ['uniform', 'distance'],\n",
        "    'algorithm': ['ball_tree', 'kd_tree', 'brute']\n",
        "}\n",
        "\n",
        "skf = StratifiedKFold(n_splits=5, shuffle=True, random_state=42)\n",
        "\n",
        "grid_search = GridSearchCV(KNN, param_grid=param_grid, cv=skf, scoring='roc_auc')\n",
        "grid_search.fit(x_train[:10000], y_train[:10000])\n",
        "\n",
        "print(\"Best parameters: \", grid_search.best_params_)\n",
        "print(\"Best score: \", grid_search.best_score_)\n",
        "\n",
        "best_estimator = grid_search.best_estimator_\n",
        "\n",
        "# Cross-validation\n",
        "cv_results = cross_val_score(best_estimator, x_train[:10000], y_train[:10000], cv=skf, scoring='roc_auc')\n",
        "print(\"Stratified KFold Cross-Validation Results:\")\n",
        "print(\"Mean CV accuracy:\", cv_results.mean())\n"
      ]
    },
    {
      "cell_type": "code",
      "execution_count": null,
      "metadata": {
        "colab": {
          "base_uri": "https://localhost:8080/",
          "height": 74
        },
        "id": "rq4hUREivku2",
        "outputId": "c7563607-6f24-4c9a-c79c-036200ea2d9d"
      },
      "outputs": [
        {
          "output_type": "execute_result",
          "data": {
            "text/plain": [
              "KNeighborsClassifier(algorithm='ball_tree', n_neighbors=9, weights='distance')"
            ],
            "text/html": [
              "<style>#sk-container-id-2 {color: black;background-color: white;}#sk-container-id-2 pre{padding: 0;}#sk-container-id-2 div.sk-toggleable {background-color: white;}#sk-container-id-2 label.sk-toggleable__label {cursor: pointer;display: block;width: 100%;margin-bottom: 0;padding: 0.3em;box-sizing: border-box;text-align: center;}#sk-container-id-2 label.sk-toggleable__label-arrow:before {content: \"▸\";float: left;margin-right: 0.25em;color: #696969;}#sk-container-id-2 label.sk-toggleable__label-arrow:hover:before {color: black;}#sk-container-id-2 div.sk-estimator:hover label.sk-toggleable__label-arrow:before {color: black;}#sk-container-id-2 div.sk-toggleable__content {max-height: 0;max-width: 0;overflow: hidden;text-align: left;background-color: #f0f8ff;}#sk-container-id-2 div.sk-toggleable__content pre {margin: 0.2em;color: black;border-radius: 0.25em;background-color: #f0f8ff;}#sk-container-id-2 input.sk-toggleable__control:checked~div.sk-toggleable__content {max-height: 200px;max-width: 100%;overflow: auto;}#sk-container-id-2 input.sk-toggleable__control:checked~label.sk-toggleable__label-arrow:before {content: \"▾\";}#sk-container-id-2 div.sk-estimator input.sk-toggleable__control:checked~label.sk-toggleable__label {background-color: #d4ebff;}#sk-container-id-2 div.sk-label input.sk-toggleable__control:checked~label.sk-toggleable__label {background-color: #d4ebff;}#sk-container-id-2 input.sk-hidden--visually {border: 0;clip: rect(1px 1px 1px 1px);clip: rect(1px, 1px, 1px, 1px);height: 1px;margin: -1px;overflow: hidden;padding: 0;position: absolute;width: 1px;}#sk-container-id-2 div.sk-estimator {font-family: monospace;background-color: #f0f8ff;border: 1px dotted black;border-radius: 0.25em;box-sizing: border-box;margin-bottom: 0.5em;}#sk-container-id-2 div.sk-estimator:hover {background-color: #d4ebff;}#sk-container-id-2 div.sk-parallel-item::after {content: \"\";width: 100%;border-bottom: 1px solid gray;flex-grow: 1;}#sk-container-id-2 div.sk-label:hover label.sk-toggleable__label {background-color: #d4ebff;}#sk-container-id-2 div.sk-serial::before {content: \"\";position: absolute;border-left: 1px solid gray;box-sizing: border-box;top: 0;bottom: 0;left: 50%;z-index: 0;}#sk-container-id-2 div.sk-serial {display: flex;flex-direction: column;align-items: center;background-color: white;padding-right: 0.2em;padding-left: 0.2em;position: relative;}#sk-container-id-2 div.sk-item {position: relative;z-index: 1;}#sk-container-id-2 div.sk-parallel {display: flex;align-items: stretch;justify-content: center;background-color: white;position: relative;}#sk-container-id-2 div.sk-item::before, #sk-container-id-2 div.sk-parallel-item::before {content: \"\";position: absolute;border-left: 1px solid gray;box-sizing: border-box;top: 0;bottom: 0;left: 50%;z-index: -1;}#sk-container-id-2 div.sk-parallel-item {display: flex;flex-direction: column;z-index: 1;position: relative;background-color: white;}#sk-container-id-2 div.sk-parallel-item:first-child::after {align-self: flex-end;width: 50%;}#sk-container-id-2 div.sk-parallel-item:last-child::after {align-self: flex-start;width: 50%;}#sk-container-id-2 div.sk-parallel-item:only-child::after {width: 0;}#sk-container-id-2 div.sk-dashed-wrapped {border: 1px dashed gray;margin: 0 0.4em 0.5em 0.4em;box-sizing: border-box;padding-bottom: 0.4em;background-color: white;}#sk-container-id-2 div.sk-label label {font-family: monospace;font-weight: bold;display: inline-block;line-height: 1.2em;}#sk-container-id-2 div.sk-label-container {text-align: center;}#sk-container-id-2 div.sk-container {/* jupyter's `normalize.less` sets `[hidden] { display: none; }` but bootstrap.min.css set `[hidden] { display: none !important; }` so we also need the `!important` here to be able to override the default hidden behavior on the sphinx rendered scikit-learn.org. See: https://github.com/scikit-learn/scikit-learn/issues/21755 */display: inline-block !important;position: relative;}#sk-container-id-2 div.sk-text-repr-fallback {display: none;}</style><div id=\"sk-container-id-2\" class=\"sk-top-container\"><div class=\"sk-text-repr-fallback\"><pre>KNeighborsClassifier(algorithm=&#x27;ball_tree&#x27;, n_neighbors=9, weights=&#x27;distance&#x27;)</pre><b>In a Jupyter environment, please rerun this cell to show the HTML representation or trust the notebook. <br />On GitHub, the HTML representation is unable to render, please try loading this page with nbviewer.org.</b></div><div class=\"sk-container\" hidden><div class=\"sk-item\"><div class=\"sk-estimator sk-toggleable\"><input class=\"sk-toggleable__control sk-hidden--visually\" id=\"sk-estimator-id-2\" type=\"checkbox\" checked><label for=\"sk-estimator-id-2\" class=\"sk-toggleable__label sk-toggleable__label-arrow\">KNeighborsClassifier</label><div class=\"sk-toggleable__content\"><pre>KNeighborsClassifier(algorithm=&#x27;ball_tree&#x27;, n_neighbors=9, weights=&#x27;distance&#x27;)</pre></div></div></div></div></div>"
            ]
          },
          "metadata": {},
          "execution_count": 41
        }
      ],
      "source": [
        "from sklearn.neighbors import KNeighborsClassifier\n",
        "\n",
        "KNN = KNeighborsClassifier(algorithm = 'ball_tree', n_neighbors = 9, weights = 'distance')\n",
        "\n",
        "KNN.fit(x_train, y_train)"
      ]
    },
    {
      "cell_type": "code",
      "execution_count": null,
      "metadata": {
        "id": "0ufG8K5BvlV7"
      },
      "outputs": [],
      "source": [
        "y_pred_KNN = KNN.predict(x_test)"
      ]
    },
    {
      "cell_type": "code",
      "execution_count": null,
      "metadata": {
        "colab": {
          "base_uri": "https://localhost:8080/"
        },
        "id": "6G8F4vOmvnBF",
        "outputId": "1fc8ba64-d353-4af4-d39a-4c59bb5092df"
      },
      "outputs": [
        {
          "output_type": "stream",
          "name": "stdout",
          "text": [
            "              precision    recall  f1-score   support\n",
            "\n",
            "         0.0       1.00      0.97      0.99      4249\n",
            "         1.0       0.16      0.88      0.27        25\n",
            "\n",
            "    accuracy                           0.97      4274\n",
            "   macro avg       0.58      0.93      0.63      4274\n",
            "weighted avg       0.99      0.97      0.98      4274\n",
            "\n",
            "[[4132  117]\n",
            " [   3   22]]\n"
          ]
        }
      ],
      "source": [
        "print(classification_report(y_test, y_pred_KNN))\n",
        "print(confusion_matrix(y_test, y_pred_KNN))"
      ]
    },
    {
      "cell_type": "code",
      "execution_count": null,
      "metadata": {
        "colab": {
          "base_uri": "https://localhost:8080/"
        },
        "id": "p38ZR7oiR3BQ",
        "outputId": "dc75bb20-a611-4ec2-e6b8-ba36857e8de4"
      },
      "outputs": [
        {
          "output_type": "stream",
          "name": "stdout",
          "text": [
            "AUROC:  0.9262320546010825\n"
          ]
        }
      ],
      "source": [
        "AUROC_KNN = roc_auc_score(y_test, y_pred_KNN)\n",
        "print(\"AUROC: \", AUROC_KNN)"
      ]
    },
    {
      "cell_type": "code",
      "execution_count": null,
      "metadata": {
        "colab": {
          "base_uri": "https://localhost:8080/",
          "height": 472
        },
        "id": "-SdbcEBvyndX",
        "outputId": "b998d4d9-3b63-402a-b99e-13c36cb53091"
      },
      "outputs": [
        {
          "output_type": "display_data",
          "data": {
            "text/plain": [
              "<Figure size 640x480 with 1 Axes>"
            ],
            "image/png": "[encoded data removed]"
          },
          "metadata": {}
        }
      ],
      "source": [
        "fpr, tpr, threshold = metrics.roc_curve(y_test, y_pred_KNN)\n",
        "roc_auc = metrics.auc(fpr, tpr)\n",
        "plt.title('ROC - RF')\n",
        "plt.plot(fpr, tpr, 'b', label = 'AUC = %0.2f' % roc_auc)\n",
        "plt.legend(loc = 'lower right')\n",
        "plt.plot([0, 1], [0, 1],'r--')\n",
        "plt.xlim([0, 1])\n",
        "plt.ylim([0, 1])\n",
        "plt.ylabel('True Positive Rate')\n",
        "plt.xlabel('False Positive Rate')\n",
        "plt.show()"
      ]
    },
    {
      "cell_type": "code",
      "execution_count": null,
      "metadata": {
        "colab": {
          "base_uri": "https://localhost:8080/"
        },
        "id": "SgFM5FhJvpoq",
        "outputId": "27fcd654-e009-4efd-fb94-25d06ddad092"
      },
      "outputs": [
        {
          "output_type": "stream",
          "name": "stdout",
          "text": [
            "Best parameters:  {'max_depth': 15, 'max_features': 'sqrt', 'min_samples_split': 5, 'n_estimators': 300}\n",
            "Best score:  0.999194232795053\n",
            "Stratified KFold Cross-Validation Results:\n",
            "CV results: [0.998  0.996  0.9965 0.996  0.9985]\n",
            "Mean CV accuracy: 0.9970000000000001\n"
          ]
        }
      ],
      "source": [
        "from sklearn.ensemble import RandomForestClassifier\n",
        "\n",
        "RF = RandomForestClassifier()\n",
        "\n",
        "param_grid = {\n",
        "    'n_estimators': [100, 200, 300],\n",
        "    'max_depth': [5, 10, 15],\n",
        "    'min_samples_split': [2, 5, 10],\n",
        "    'max_features': ['sqrt', 'log2']\n",
        "}\n",
        "\n",
        "skf = StratifiedKFold(n_splits=5, shuffle=True, random_state=42)\n",
        "\n",
        "grid_search = GridSearchCV(estimator=RF, param_grid=param_grid, cv=skf, scoring='roc_auc')\n",
        "grid_search.fit(x_train[:10000], y_train[:10000])\n",
        "\n",
        "print(\"Best parameters: \", grid_search.best_params_)\n",
        "print(\"Best score: \", grid_search.best_score_)\n",
        "\n",
        "cv_results = cross_val_score(grid_search.best_estimator_, x_train[:10000], y_train[:10000], cv=skf)\n",
        "print(\"Stratified KFold Cross-Validation Results:\")\n",
        "print(\"CV results:\", cv_results)\n",
        "print(\"Mean CV accuracy:\", cv_results.mean())"
      ]
    },
    {
      "cell_type": "code",
      "execution_count": null,
      "metadata": {
        "colab": {
          "base_uri": "https://localhost:8080/",
          "height": 74
        },
        "id": "Mf84khvWvukE",
        "outputId": "ec369097-6a6d-4b7d-ed31-1b82f0de04aa"
      },
      "outputs": [
        {
          "output_type": "execute_result",
          "data": {
            "text/plain": [
              "RandomForestClassifier(max_depth=15, min_samples_split=5, n_estimators=300)"
            ],
            "text/html": [
              "<style>#sk-container-id-3 {color: black;background-color: white;}#sk-container-id-3 pre{padding: 0;}#sk-container-id-3 div.sk-toggleable {background-color: white;}#sk-container-id-3 label.sk-toggleable__label {cursor: pointer;display: block;width: 100%;margin-bottom: 0;padding: 0.3em;box-sizing: border-box;text-align: center;}#sk-container-id-3 label.sk-toggleable__label-arrow:before {content: \"▸\";float: left;margin-right: 0.25em;color: #696969;}#sk-container-id-3 label.sk-toggleable__label-arrow:hover:before {color: black;}#sk-container-id-3 div.sk-estimator:hover label.sk-toggleable__label-arrow:before {color: black;}#sk-container-id-3 div.sk-toggleable__content {max-height: 0;max-width: 0;overflow: hidden;text-align: left;background-color: #f0f8ff;}#sk-container-id-3 div.sk-toggleable__content pre {margin: 0.2em;color: black;border-radius: 0.25em;background-color: #f0f8ff;}#sk-container-id-3 input.sk-toggleable__control:checked~div.sk-toggleable__content {max-height: 200px;max-width: 100%;overflow: auto;}#sk-container-id-3 input.sk-toggleable__control:checked~label.sk-toggleable__label-arrow:before {content: \"▾\";}#sk-container-id-3 div.sk-estimator input.sk-toggleable__control:checked~label.sk-toggleable__label {background-color: #d4ebff;}#sk-container-id-3 div.sk-label input.sk-toggleable__control:checked~label.sk-toggleable__label {background-color: #d4ebff;}#sk-container-id-3 input.sk-hidden--visually {border: 0;clip: rect(1px 1px 1px 1px);clip: rect(1px, 1px, 1px, 1px);height: 1px;margin: -1px;overflow: hidden;padding: 0;position: absolute;width: 1px;}#sk-container-id-3 div.sk-estimator {font-family: monospace;background-color: #f0f8ff;border: 1px dotted black;border-radius: 0.25em;box-sizing: border-box;margin-bottom: 0.5em;}#sk-container-id-3 div.sk-estimator:hover {background-color: #d4ebff;}#sk-container-id-3 div.sk-parallel-item::after {content: \"\";width: 100%;border-bottom: 1px solid gray;flex-grow: 1;}#sk-container-id-3 div.sk-label:hover label.sk-toggleable__label {background-color: #d4ebff;}#sk-container-id-3 div.sk-serial::before {content: \"\";position: absolute;border-left: 1px solid gray;box-sizing: border-box;top: 0;bottom: 0;left: 50%;z-index: 0;}#sk-container-id-3 div.sk-serial {display: flex;flex-direction: column;align-items: center;background-color: white;padding-right: 0.2em;padding-left: 0.2em;position: relative;}#sk-container-id-3 div.sk-item {position: relative;z-index: 1;}#sk-container-id-3 div.sk-parallel {display: flex;align-items: stretch;justify-content: center;background-color: white;position: relative;}#sk-container-id-3 div.sk-item::before, #sk-container-id-3 div.sk-parallel-item::before {content: \"\";position: absolute;border-left: 1px solid gray;box-sizing: border-box;top: 0;bottom: 0;left: 50%;z-index: -1;}#sk-container-id-3 div.sk-parallel-item {display: flex;flex-direction: column;z-index: 1;position: relative;background-color: white;}#sk-container-id-3 div.sk-parallel-item:first-child::after {align-self: flex-end;width: 50%;}#sk-container-id-3 div.sk-parallel-item:last-child::after {align-self: flex-start;width: 50%;}#sk-container-id-3 div.sk-parallel-item:only-child::after {width: 0;}#sk-container-id-3 div.sk-dashed-wrapped {border: 1px dashed gray;margin: 0 0.4em 0.5em 0.4em;box-sizing: border-box;padding-bottom: 0.4em;background-color: white;}#sk-container-id-3 div.sk-label label {font-family: monospace;font-weight: bold;display: inline-block;line-height: 1.2em;}#sk-container-id-3 div.sk-label-container {text-align: center;}#sk-container-id-3 div.sk-container {/* jupyter's `normalize.less` sets `[hidden] { display: none; }` but bootstrap.min.css set `[hidden] { display: none !important; }` so we also need the `!important` here to be able to override the default hidden behavior on the sphinx rendered scikit-learn.org. See: https://github.com/scikit-learn/scikit-learn/issues/21755 */display: inline-block !important;position: relative;}#sk-container-id-3 div.sk-text-repr-fallback {display: none;}</style><div id=\"sk-container-id-3\" class=\"sk-top-container\"><div class=\"sk-text-repr-fallback\"><pre>RandomForestClassifier(max_depth=15, min_samples_split=5, n_estimators=300)</pre><b>In a Jupyter environment, please rerun this cell to show the HTML representation or trust the notebook. <br />On GitHub, the HTML representation is unable to render, please try loading this page with nbviewer.org.</b></div><div class=\"sk-container\" hidden><div class=\"sk-item\"><div class=\"sk-estimator sk-toggleable\"><input class=\"sk-toggleable__control sk-hidden--visually\" id=\"sk-estimator-id-3\" type=\"checkbox\" checked><label for=\"sk-estimator-id-3\" class=\"sk-toggleable__label sk-toggleable__label-arrow\">RandomForestClassifier</label><div class=\"sk-toggleable__content\"><pre>RandomForestClassifier(max_depth=15, min_samples_split=5, n_estimators=300)</pre></div></div></div></div></div>"
            ]
          },
          "metadata": {},
          "execution_count": 47
        }
      ],
      "source": [
        "RF = RandomForestClassifier(max_depth = 15, max_features = 'sqrt', min_samples_split = 5, n_estimators = 300)\n",
        "\n",
        "RF.fit(x_train, y_train)"
      ]
    },
    {
      "cell_type": "code",
      "execution_count": null,
      "metadata": {
        "id": "iCwgknIovw4k"
      },
      "outputs": [],
      "source": [
        "y_pred_RF = RF.predict(x_test)"
      ]
    },
    {
      "cell_type": "code",
      "execution_count": null,
      "metadata": {
        "colab": {
          "base_uri": "https://localhost:8080/"
        },
        "id": "4nKwsb6hvyce",
        "outputId": "345fba4c-8e55-46ea-86f9-4d02b60a04b8"
      },
      "outputs": [
        {
          "output_type": "stream",
          "name": "stdout",
          "text": [
            "              precision    recall  f1-score   support\n",
            "\n",
            "         0.0       1.00      1.00      1.00      4249\n",
            "         1.0       0.76      0.64      0.70        25\n",
            "\n",
            "    accuracy                           1.00      4274\n",
            "   macro avg       0.88      0.82      0.85      4274\n",
            "weighted avg       1.00      1.00      1.00      4274\n",
            "\n",
            "[[4244    5]\n",
            " [   9   16]]\n"
          ]
        }
      ],
      "source": [
        "print(classification_report(y_test, y_pred_RF))\n",
        "print(confusion_matrix(y_test, y_pred_RF))"
      ]
    },
    {
      "cell_type": "code",
      "execution_count": null,
      "metadata": {
        "colab": {
          "base_uri": "https://localhost:8080/"
        },
        "id": "9ej1kdAvv0CT",
        "outputId": "92ba2e4b-e1e9-48ce-a734-d00a0e708528"
      },
      "outputs": [
        {
          "output_type": "stream",
          "name": "stdout",
          "text": [
            "TP,FP,TN,FN - Logistic Regression\n",
            "True Positives: 16\n",
            "False Positives: 5\n",
            "True Negatives: 4244\n",
            "False Negatives: 9\n"
          ]
        }
      ],
      "source": [
        "print(\"TP,FP,TN,FN - Logistic Regression\")\n",
        "tn, fp, fn, tp = confusion_matrix(y_test, y_pred_RF).ravel()\n",
        "print(f'True Positives: {tp}')\n",
        "print(f'False Positives: {fp}')\n",
        "print(f'True Negatives: {tn}')\n",
        "print(f'False Negatives: {fn}')"
      ]
    },
    {
      "cell_type": "code",
      "execution_count": null,
      "metadata": {
        "colab": {
          "base_uri": "https://localhost:8080/"
        },
        "id": "lEYIHYAHR7L-",
        "outputId": "a4092c6e-d458-47e0-a658-60073e6b70a9"
      },
      "outputs": [
        {
          "output_type": "stream",
          "name": "stdout",
          "text": [
            "AUROC:  0.8194116262650035\n"
          ]
        }
      ],
      "source": [
        "AUROC_RF = roc_auc_score(y_test, y_pred_RF)\n",
        "print(\"AUROC: \", AUROC_RF)"
      ]
    },
    {
      "cell_type": "code",
      "execution_count": null,
      "metadata": {
        "colab": {
          "base_uri": "https://localhost:8080/",
          "height": 472
        },
        "id": "tUuEO86cx2ah",
        "outputId": "398e45ec-6294-43ea-80ef-5b34b76f2aa6"
      },
      "outputs": [
        {
          "output_type": "display_data",
          "data": {
            "text/plain": [
              "<Figure size 640x480 with 1 Axes>"
            ],
            "image/png": "[encoded data removed]"
          },
          "metadata": {}
        }
      ],
      "source": [
        "fpr, tpr, threshold = metrics.roc_curve(y_test, y_pred_RF)\n",
        "roc_auc = metrics.auc(fpr, tpr)\n",
        "\n",
        "plt.title('ROC - RF')\n",
        "plt.plot(fpr, tpr, 'b', label = 'AUC = %0.2f' % roc_auc)\n",
        "plt.legend(loc = 'lower right')\n",
        "plt.plot([0, 1], [0, 1],'r--')\n",
        "plt.xlim([0, 1])\n",
        "plt.ylim([0, 1])\n",
        "plt.ylabel('True Positive Rate')\n",
        "plt.xlabel('False Positive Rate')\n",
        "plt.show()"
      ]
    },
    {
      "cell_type": "code",
      "execution_count": 35,
      "metadata": {
        "id": "u4qQcLSZzQ1p",
        "colab": {
          "base_uri": "https://localhost:8080/"
        },
        "outputId": "99c53956-5ba4-41c3-824b-382abd7b5906"
      },
      "outputs": [
        {
          "output_type": "stream",
          "name": "stdout",
          "text": [
            "Best parameters:  {'gamma': 0, 'learning_rate': 1, 'max_depth': 3, 'n_estimators': 100}\n",
            "Best score:  0.9773250891701613\n",
            "Stratified KFold Cross-Validation Results:\n",
            "CV results: [0.9985 0.998  0.9985 0.998  0.9985]\n",
            "Mean CV accuracy: 0.9983000000000001\n"
          ]
        }
      ],
      "source": [
        "from xgboost import XGBClassifier\n",
        "\n",
        "XGB = XGBClassifier()\n",
        "\n",
        "param_grid = {\n",
        "    'learning_rate': [0.001, 0.01, 0.1, 1],\n",
        "    'n_estimators': [100, 500, 1000],\n",
        "    'max_depth': [3, 5, 7],\n",
        "    'gamma': [0, 0.1, 0.2]\n",
        "}\n",
        "\n",
        "skf = StratifiedKFold(n_splits=5, shuffle=True, random_state=42)\n",
        "\n",
        "grid_search = GridSearchCV(estimator=XGB, param_grid=param_grid, cv=skf, scoring='roc_auc')\n",
        "grid_search.fit(x_train[:10000], y_train[:10000])\n",
        "\n",
        "print(\"Best parameters: \", grid_search.best_params_)\n",
        "print(\"Best score: \", grid_search.best_score_)\n",
        "\n",
        "cv_results = cross_val_score(grid_search.best_estimator_, x_train[:10000], y_train[:10000], cv=skf)\n",
        "print(\"Stratified KFold Cross-Validation Results:\")\n",
        "print(\"CV results:\", cv_results)\n",
        "print(\"Mean CV accuracy:\", cv_results.mean())"
      ]
    },
    {
      "cell_type": "code",
      "execution_count": 36,
      "metadata": {
        "id": "X2KdNf9JzUff",
        "colab": {
          "base_uri": "https://localhost:8080/",
          "height": 248
        },
        "outputId": "3e0292ec-3711-4dd7-aba8-c2b97421b451"
      },
      "outputs": [
        {
          "output_type": "execute_result",
          "data": {
            "text/plain": [
              "XGBClassifier(base_score=None, booster=None, callbacks=None,\n",
              "              colsample_bylevel=None, colsample_bynode=None,\n",
              "              colsample_bytree=None, early_stopping_rounds=None,\n",
              "              enable_categorical=False, eval_metric=None, feature_types=None,\n",
              "              gamma=0, gpu_id=None, grow_policy=None, importance_type=None,\n",
              "              interaction_constraints=None, learning_rate=1, max_bin=None,\n",
              "              max_cat_threshold=None, max_cat_to_onehot=None,\n",
              "              max_delta_step=None, max_depth=3, max_leaves=None,\n",
              "              min_child_weight=None, missing=nan, monotone_constraints=None,\n",
              "              n_estimators=100, n_jobs=None, num_parallel_tree=None,\n",
              "              predictor=None, random_state=None, ...)"
            ],
            "text/html": [
              "<style>#sk-container-id-1 {color: black;background-color: white;}#sk-container-id-1 pre{padding: 0;}#sk-container-id-1 div.sk-toggleable {background-color: white;}#sk-container-id-1 label.sk-toggleable__label {cursor: pointer;display: block;width: 100%;margin-bottom: 0;padding: 0.3em;box-sizing: border-box;text-align: center;}#sk-container-id-1 label.sk-toggleable__label-arrow:before {content: \"▸\";float: left;margin-right: 0.25em;color: #696969;}#sk-container-id-1 label.sk-toggleable__label-arrow:hover:before {color: black;}#sk-container-id-1 div.sk-estimator:hover label.sk-toggleable__label-arrow:before {color: black;}#sk-container-id-1 div.sk-toggleable__content {max-height: 0;max-width: 0;overflow: hidden;text-align: left;background-color: #f0f8ff;}#sk-container-id-1 div.sk-toggleable__content pre {margin: 0.2em;color: black;border-radius: 0.25em;background-color: #f0f8ff;}#sk-container-id-1 input.sk-toggleable__control:checked~div.sk-toggleable__content {max-height: 200px;max-width: 100%;overflow: auto;}#sk-container-id-1 input.sk-toggleable__control:checked~label.sk-toggleable__label-arrow:before {content: \"▾\";}#sk-container-id-1 div.sk-estimator input.sk-toggleable__control:checked~label.sk-toggleable__label {background-color: #d4ebff;}#sk-container-id-1 div.sk-label input.sk-toggleable__control:checked~label.sk-toggleable__label {background-color: #d4ebff;}#sk-container-id-1 input.sk-hidden--visually {border: 0;clip: rect(1px 1px 1px 1px);clip: rect(1px, 1px, 1px, 1px);height: 1px;margin: -1px;overflow: hidden;padding: 0;position: absolute;width: 1px;}#sk-container-id-1 div.sk-estimator {font-family: monospace;background-color: #f0f8ff;border: 1px dotted black;border-radius: 0.25em;box-sizing: border-box;margin-bottom: 0.5em;}#sk-container-id-1 div.sk-estimator:hover {background-color: #d4ebff;}#sk-container-id-1 div.sk-parallel-item::after {content: \"\";width: 100%;border-bottom: 1px solid gray;flex-grow: 1;}#sk-container-id-1 div.sk-label:hover label.sk-toggleable__label {background-color: #d4ebff;}#sk-container-id-1 div.sk-serial::before {content: \"\";position: absolute;border-left: 1px solid gray;box-sizing: border-box;top: 0;bottom: 0;left: 50%;z-index: 0;}#sk-container-id-1 div.sk-serial {display: flex;flex-direction: column;align-items: center;background-color: white;padding-right: 0.2em;padding-left: 0.2em;position: relative;}#sk-container-id-1 div.sk-item {position: relative;z-index: 1;}#sk-container-id-1 div.sk-parallel {display: flex;align-items: stretch;justify-content: center;background-color: white;position: relative;}#sk-container-id-1 div.sk-item::before, #sk-container-id-1 div.sk-parallel-item::before {content: \"\";position: absolute;border-left: 1px solid gray;box-sizing: border-box;top: 0;bottom: 0;left: 50%;z-index: -1;}#sk-container-id-1 div.sk-parallel-item {display: flex;flex-direction: column;z-index: 1;position: relative;background-color: white;}#sk-container-id-1 div.sk-parallel-item:first-child::after {align-self: flex-end;width: 50%;}#sk-container-id-1 div.sk-parallel-item:last-child::after {align-self: flex-start;width: 50%;}#sk-container-id-1 div.sk-parallel-item:only-child::after {width: 0;}#sk-container-id-1 div.sk-dashed-wrapped {border: 1px dashed gray;margin: 0 0.4em 0.5em 0.4em;box-sizing: border-box;padding-bottom: 0.4em;background-color: white;}#sk-container-id-1 div.sk-label label {font-family: monospace;font-weight: bold;display: inline-block;line-height: 1.2em;}#sk-container-id-1 div.sk-label-container {text-align: center;}#sk-container-id-1 div.sk-container {/* jupyter's `normalize.less` sets `[hidden] { display: none; }` but bootstrap.min.css set `[hidden] { display: none !important; }` so we also need the `!important` here to be able to override the default hidden behavior on the sphinx rendered scikit-learn.org. See: https://github.com/scikit-learn/scikit-learn/issues/21755 */display: inline-block !important;position: relative;}#sk-container-id-1 div.sk-text-repr-fallback {display: none;}</style><div id=\"sk-container-id-1\" class=\"sk-top-container\"><div class=\"sk-text-repr-fallback\"><pre>XGBClassifier(base_score=None, booster=None, callbacks=None,\n",
              "              colsample_bylevel=None, colsample_bynode=None,\n",
              "              colsample_bytree=None, early_stopping_rounds=None,\n",
              "              enable_categorical=False, eval_metric=None, feature_types=None,\n",
              "              gamma=0, gpu_id=None, grow_policy=None, importance_type=None,\n",
              "              interaction_constraints=None, learning_rate=1, max_bin=None,\n",
              "              max_cat_threshold=None, max_cat_to_onehot=None,\n",
              "              max_delta_step=None, max_depth=3, max_leaves=None,\n",
              "              min_child_weight=None, missing=nan, monotone_constraints=None,\n",
              "              n_estimators=100, n_jobs=None, num_parallel_tree=None,\n",
              "              predictor=None, random_state=None, ...)</pre><b>In a Jupyter environment, please rerun this cell to show the HTML representation or trust the notebook. <br />On GitHub, the HTML representation is unable to render, please try loading this page with nbviewer.org.</b></div><div class=\"sk-container\" hidden><div class=\"sk-item\"><div class=\"sk-estimator sk-toggleable\"><input class=\"sk-toggleable__control sk-hidden--visually\" id=\"sk-estimator-id-1\" type=\"checkbox\" checked><label for=\"sk-estimator-id-1\" class=\"sk-toggleable__label sk-toggleable__label-arrow\">XGBClassifier</label><div class=\"sk-toggleable__content\"><pre>XGBClassifier(base_score=None, booster=None, callbacks=None,\n",
              "              colsample_bylevel=None, colsample_bynode=None,\n",
              "              colsample_bytree=None, early_stopping_rounds=None,\n",
              "              enable_categorical=False, eval_metric=None, feature_types=None,\n",
              "              gamma=0, gpu_id=None, grow_policy=None, importance_type=None,\n",
              "              interaction_constraints=None, learning_rate=1, max_bin=None,\n",
              "              max_cat_threshold=None, max_cat_to_onehot=None,\n",
              "              max_delta_step=None, max_depth=3, max_leaves=None,\n",
              "              min_child_weight=None, missing=nan, monotone_constraints=None,\n",
              "              n_estimators=100, n_jobs=None, num_parallel_tree=None,\n",
              "              predictor=None, random_state=None, ...)</pre></div></div></div></div></div>"
            ]
          },
          "metadata": {},
          "execution_count": 36
        }
      ],
      "source": [
        "XGB = XGBClassifier(learning_rate = 1, n_estimators = 100, max_depth = 3, gamma = 0)\n",
        "\n",
        "XGB.fit(x_train, y_train)"
      ]
    },
    {
      "cell_type": "code",
      "execution_count": 38,
      "metadata": {
        "id": "z5kAo73BznL1"
      },
      "outputs": [],
      "source": [
        "y_pred_XGB = XGB.predict(x_test)"
      ]
    },
    {
      "cell_type": "code",
      "execution_count": 39,
      "metadata": {
        "id": "i5LYWIWmzrYc",
        "colab": {
          "base_uri": "https://localhost:8080/"
        },
        "outputId": "159bc7dc-a02b-43bd-d865-875014642c53"
      },
      "outputs": [
        {
          "output_type": "stream",
          "name": "stdout",
          "text": [
            "              precision    recall  f1-score   support\n",
            "\n",
            "         0.0       1.00      1.00      1.00     20928\n",
            "         1.0       0.25      0.53      0.34        30\n",
            "\n",
            "    accuracy                           1.00     20958\n",
            "   macro avg       0.62      0.77      0.67     20958\n",
            "weighted avg       1.00      1.00      1.00     20958\n",
            "\n",
            "[[20880    48]\n",
            " [   14    16]]\n"
          ]
        }
      ],
      "source": [
        "print(classification_report(y_test, y_pred_XGB))\n",
        "print(confusion_matrix(y_test, y_pred_XGB))"
      ]
    },
    {
      "cell_type": "code",
      "execution_count": 40,
      "metadata": {
        "id": "0TV0P8_AzwwT",
        "colab": {
          "base_uri": "https://localhost:8080/"
        },
        "outputId": "206a36bd-040f-498b-ade8-3002021a4b89"
      },
      "outputs": [
        {
          "output_type": "stream",
          "name": "stdout",
          "text": [
            "TP,FP,TN,FN - XGB Classifier\n",
            "True Positives: 16\n",
            "False Positives: 48\n",
            "True Negatives: 20880\n",
            "False Negatives: 14\n"
          ]
        }
      ],
      "source": [
        "print(\"TP,FP,TN,FN - XGB Classifier\")\n",
        "tn, fp, fn, tp = confusion_matrix(y_test, y_pred_XGB).ravel()\n",
        "print(f'True Positives: {tp}')\n",
        "print(f'False Positives: {fp}')\n",
        "print(f'True Negatives: {tn}')\n",
        "print(f'False Negatives: {fn}')"
      ]
    },
    {
      "cell_type": "code",
      "execution_count": 41,
      "metadata": {
        "id": "YtCHzq_uR__J",
        "colab": {
          "base_uri": "https://localhost:8080/"
        },
        "outputId": "e99914d5-8071-45d9-c8ea-372189a3de4d"
      },
      "outputs": [
        {
          "output_type": "stream",
          "name": "stdout",
          "text": [
            "AUROC:  0.7655198776758408\n"
          ]
        }
      ],
      "source": [
        "AUROC_XGB = roc_auc_score(y_test, y_pred_XGB)\n",
        "print(\"AUROC: \", AUROC_XGB)"
      ]
    },
    {
      "cell_type": "code",
      "execution_count": 42,
      "metadata": {
        "id": "nKNeyPewz5F_",
        "colab": {
          "base_uri": "https://localhost:8080/",
          "height": 472
        },
        "outputId": "73dd0a73-7487-48d0-b911-9a95df1efcb9"
      },
      "outputs": [
        {
          "output_type": "display_data",
          "data": {
            "text/plain": [
              "<Figure size 640x480 with 1 Axes>"
            ],
            "image/png": "[encoded data removed]"
          },
          "metadata": {}
        }
      ],
      "source": [
        "fpr, tpr, threshold = metrics.roc_curve(y_test, y_pred_XGB)\n",
        "roc_auc = metrics.auc(fpr, tpr)\n",
        "\n",
        "plt.title('ROC - RF')\n",
        "plt.plot(fpr, tpr, 'b', label = 'AUC = %0.2f' % roc_auc)\n",
        "plt.legend(loc = 'lower right')\n",
        "plt.plot([0, 1], [0, 1],'r--')\n",
        "plt.xlim([0, 1])\n",
        "plt.ylim([0, 1])\n",
        "plt.ylabel('True Positive Rate')\n",
        "plt.xlabel('False Positive Rate')\n",
        "plt.show()"
      ]
    },
    {
      "cell_type": "code",
      "execution_count": 43,
      "metadata": {
        "id": "KPgyIaRox5-g",
        "colab": {
          "base_uri": "https://localhost:8080/"
        },
        "outputId": "1ba5bc77-9204-4b82-c046-250739e85317"
      },
      "outputs": [
        {
          "output_type": "stream",
          "name": "stdout",
          "text": [
            "Best parameters:  {'criterion': 'gini', 'max_depth': 5, 'min_samples_split': 2}\n",
            "Best score:  0.8847785915680468\n",
            "Stratified KFold Cross-Validation Results:\n",
            "CV results: [0.9995 0.999  0.997  0.998  0.998 ]\n",
            "Mean CV accuracy: 0.9983000000000001\n"
          ]
        }
      ],
      "source": [
        "from sklearn.tree import DecisionTreeClassifier\n",
        "from sklearn.model_selection import GridSearchCV, StratifiedKFold, cross_val_score\n",
        "\n",
        "DT = DecisionTreeClassifier()\n",
        "\n",
        "param_grid = {\n",
        "    'max_depth': [5, 10, 15],\n",
        "    'min_samples_split': [2, 5, 10],\n",
        "    'criterion': ['gini', 'entropy']\n",
        "}\n",
        "\n",
        "skf = StratifiedKFold(n_splits=5, shuffle=True, random_state=42)\n",
        "\n",
        "grid_search = GridSearchCV(estimator=DT, param_grid=param_grid, cv=skf, scoring='roc_auc')\n",
        "grid_search.fit(x_train[:10000], y_train[:10000])\n",
        "\n",
        "print(\"Best parameters: \", grid_search.best_params_)\n",
        "print(\"Best score: \", grid_search.best_score_)\n",
        "\n",
        "cv_results = cross_val_score(grid_search.best_estimator_, x_train[:10000], y_train[:10000], cv=skf)\n",
        "print(\"Stratified KFold Cross-Validation Results:\")\n",
        "print(\"CV results:\", cv_results)\n",
        "print(\"Mean CV accuracy:\", cv_results.mean())"
      ]
    },
    {
      "cell_type": "code",
      "execution_count": 44,
      "metadata": {
        "id": "lbWcLY-Ox9n1",
        "colab": {
          "base_uri": "https://localhost:8080/",
          "height": 74
        },
        "outputId": "2688759c-8f57-4c95-f01b-17f3d76ace4c"
      },
      "outputs": [
        {
          "output_type": "execute_result",
          "data": {
            "text/plain": [
              "DecisionTreeClassifier(max_depth=5)"
            ],
            "text/html": [
              "<style>#sk-container-id-2 {color: black;background-color: white;}#sk-container-id-2 pre{padding: 0;}#sk-container-id-2 div.sk-toggleable {background-color: white;}#sk-container-id-2 label.sk-toggleable__label {cursor: pointer;display: block;width: 100%;margin-bottom: 0;padding: 0.3em;box-sizing: border-box;text-align: center;}#sk-container-id-2 label.sk-toggleable__label-arrow:before {content: \"▸\";float: left;margin-right: 0.25em;color: #696969;}#sk-container-id-2 label.sk-toggleable__label-arrow:hover:before {color: black;}#sk-container-id-2 div.sk-estimator:hover label.sk-toggleable__label-arrow:before {color: black;}#sk-container-id-2 div.sk-toggleable__content {max-height: 0;max-width: 0;overflow: hidden;text-align: left;background-color: #f0f8ff;}#sk-container-id-2 div.sk-toggleable__content pre {margin: 0.2em;color: black;border-radius: 0.25em;background-color: #f0f8ff;}#sk-container-id-2 input.sk-toggleable__control:checked~div.sk-toggleable__content {max-height: 200px;max-width: 100%;overflow: auto;}#sk-container-id-2 input.sk-toggleable__control:checked~label.sk-toggleable__label-arrow:before {content: \"▾\";}#sk-container-id-2 div.sk-estimator input.sk-toggleable__control:checked~label.sk-toggleable__label {background-color: #d4ebff;}#sk-container-id-2 div.sk-label input.sk-toggleable__control:checked~label.sk-toggleable__label {background-color: #d4ebff;}#sk-container-id-2 input.sk-hidden--visually {border: 0;clip: rect(1px 1px 1px 1px);clip: rect(1px, 1px, 1px, 1px);height: 1px;margin: -1px;overflow: hidden;padding: 0;position: absolute;width: 1px;}#sk-container-id-2 div.sk-estimator {font-family: monospace;background-color: #f0f8ff;border: 1px dotted black;border-radius: 0.25em;box-sizing: border-box;margin-bottom: 0.5em;}#sk-container-id-2 div.sk-estimator:hover {background-color: #d4ebff;}#sk-container-id-2 div.sk-parallel-item::after {content: \"\";width: 100%;border-bottom: 1px solid gray;flex-grow: 1;}#sk-container-id-2 div.sk-label:hover label.sk-toggleable__label {background-color: #d4ebff;}#sk-container-id-2 div.sk-serial::before {content: \"\";position: absolute;border-left: 1px solid gray;box-sizing: border-box;top: 0;bottom: 0;left: 50%;z-index: 0;}#sk-container-id-2 div.sk-serial {display: flex;flex-direction: column;align-items: center;background-color: white;padding-right: 0.2em;padding-left: 0.2em;position: relative;}#sk-container-id-2 div.sk-item {position: relative;z-index: 1;}#sk-container-id-2 div.sk-parallel {display: flex;align-items: stretch;justify-content: center;background-color: white;position: relative;}#sk-container-id-2 div.sk-item::before, #sk-container-id-2 div.sk-parallel-item::before {content: \"\";position: absolute;border-left: 1px solid gray;box-sizing: border-box;top: 0;bottom: 0;left: 50%;z-index: -1;}#sk-container-id-2 div.sk-parallel-item {display: flex;flex-direction: column;z-index: 1;position: relative;background-color: white;}#sk-container-id-2 div.sk-parallel-item:first-child::after {align-self: flex-end;width: 50%;}#sk-container-id-2 div.sk-parallel-item:last-child::after {align-self: flex-start;width: 50%;}#sk-container-id-2 div.sk-parallel-item:only-child::after {width: 0;}#sk-container-id-2 div.sk-dashed-wrapped {border: 1px dashed gray;margin: 0 0.4em 0.5em 0.4em;box-sizing: border-box;padding-bottom: 0.4em;background-color: white;}#sk-container-id-2 div.sk-label label {font-family: monospace;font-weight: bold;display: inline-block;line-height: 1.2em;}#sk-container-id-2 div.sk-label-container {text-align: center;}#sk-container-id-2 div.sk-container {/* jupyter's `normalize.less` sets `[hidden] { display: none; }` but bootstrap.min.css set `[hidden] { display: none !important; }` so we also need the `!important` here to be able to override the default hidden behavior on the sphinx rendered scikit-learn.org. See: https://github.com/scikit-learn/scikit-learn/issues/21755 */display: inline-block !important;position: relative;}#sk-container-id-2 div.sk-text-repr-fallback {display: none;}</style><div id=\"sk-container-id-2\" class=\"sk-top-container\"><div class=\"sk-text-repr-fallback\"><pre>DecisionTreeClassifier(max_depth=5)</pre><b>In a Jupyter environment, please rerun this cell to show the HTML representation or trust the notebook. <br />On GitHub, the HTML representation is unable to render, please try loading this page with nbviewer.org.</b></div><div class=\"sk-container\" hidden><div class=\"sk-item\"><div class=\"sk-estimator sk-toggleable\"><input class=\"sk-toggleable__control sk-hidden--visually\" id=\"sk-estimator-id-2\" type=\"checkbox\" checked><label for=\"sk-estimator-id-2\" class=\"sk-toggleable__label sk-toggleable__label-arrow\">DecisionTreeClassifier</label><div class=\"sk-toggleable__content\"><pre>DecisionTreeClassifier(max_depth=5)</pre></div></div></div></div></div>"
            ]
          },
          "metadata": {},
          "execution_count": 44
        }
      ],
      "source": [
        "DT = DecisionTreeClassifier(criterion = 'gini', max_depth = 5, min_samples_split = 2)\n",
        "\n",
        "DT.fit(x_train,y_train)"
      ]
    },
    {
      "cell_type": "code",
      "execution_count": 45,
      "metadata": {
        "id": "DZnaLDA8yBr2"
      },
      "outputs": [],
      "source": [
        "y_pred_DT = DT.predict(x_test)"
      ]
    },
    {
      "cell_type": "code",
      "execution_count": 46,
      "metadata": {
        "id": "JRvoIVOFyEC9",
        "colab": {
          "base_uri": "https://localhost:8080/"
        },
        "outputId": "373cda3e-bf11-4ad3-90e2-609acb2263ce"
      },
      "outputs": [
        {
          "output_type": "stream",
          "name": "stdout",
          "text": [
            "              precision    recall  f1-score   support\n",
            "\n",
            "         0.0       1.00      0.97      0.99     20928\n",
            "         1.0       0.04      0.80      0.08        30\n",
            "\n",
            "    accuracy                           0.97     20958\n",
            "   macro avg       0.52      0.89      0.53     20958\n",
            "weighted avg       1.00      0.97      0.98     20958\n",
            "\n",
            "[[20351   577]\n",
            " [    6    24]]\n"
          ]
        }
      ],
      "source": [
        "print(classification_report(y_test,y_pred_DT))\n",
        "print(confusion_matrix(y_test, y_pred_DT))"
      ]
    },
    {
      "cell_type": "code",
      "execution_count": 47,
      "metadata": {
        "id": "KSQ5DP8RyUCX",
        "colab": {
          "base_uri": "https://localhost:8080/"
        },
        "outputId": "3ec7e1f4-ee08-4fb6-8184-9aa8f4f49b2f"
      },
      "outputs": [
        {
          "output_type": "stream",
          "name": "stdout",
          "text": [
            "TP,FP,TN,FN - Decision Tree\n",
            "True Positives: 24\n",
            "False Positives: 577\n",
            "True Negatives: 20351\n",
            "False Negatives: 6\n"
          ]
        }
      ],
      "source": [
        "print(\"TP,FP,TN,FN - Decision Tree\")\n",
        "tn, fp, fn, tp = confusion_matrix(y_test, y_pred_DT).ravel()\n",
        "print(f'True Positives: {tp}')\n",
        "print(f'False Positives: {fp}')\n",
        "print(f'True Negatives: {tn}')\n",
        "print(f'False Negatives: {fn}')"
      ]
    },
    {
      "cell_type": "code",
      "execution_count": 48,
      "metadata": {
        "id": "PSf0esgeSEmG",
        "colab": {
          "base_uri": "https://localhost:8080/"
        },
        "outputId": "2ea5c678-6809-429f-8c3b-48454cd9214f"
      },
      "outputs": [
        {
          "output_type": "stream",
          "name": "stdout",
          "text": [
            "AUROC:  0.8862146406727829\n"
          ]
        }
      ],
      "source": [
        "AUROC_DT = roc_auc_score(y_test, y_pred_DT)\n",
        "print(\"AUROC: \", AUROC_DT)"
      ]
    },
    {
      "cell_type": "code",
      "execution_count": 49,
      "metadata": {
        "id": "awzfB3Ypye88",
        "colab": {
          "base_uri": "https://localhost:8080/",
          "height": 472
        },
        "outputId": "b81d838f-695d-4b2b-bd8e-f8e895b38b62"
      },
      "outputs": [
        {
          "output_type": "display_data",
          "data": {
            "text/plain": [
              "<Figure size 640x480 with 1 Axes>"
            ],
            "image/png": "[encoded data removed]"
          },
          "metadata": {}
        }
      ],
      "source": [
        "fpr, tpr, threshold = metrics.roc_curve(y_test, y_pred_DT)\n",
        "roc_auc = metrics.auc(fpr, tpr)\n",
        "\n",
        "plt.title('ROC - DT')\n",
        "plt.plot(fpr, tpr, 'b', label = 'AUC = %0.2f' % roc_auc)\n",
        "plt.legend(loc = 'lower right')\n",
        "plt.plot([0, 1], [0, 1],'r--')\n",
        "plt.xlim([0, 1])\n",
        "plt.ylim([0, 1])\n",
        "plt.ylabel('True Positive Rate')\n",
        "plt.xlabel('False Positive Rate')\n",
        "plt.show()"
      ]
    },
    {
      "cell_type": "code",
      "execution_count": 50,
      "metadata": {
        "id": "aTkZjgG7yu-s",
        "colab": {
          "base_uri": "https://localhost:8080/"
        },
        "outputId": "6bb23131-d41a-4882-f4fd-8e8ed9b7a3bb"
      },
      "outputs": [
        {
          "output_type": "stream",
          "name": "stdout",
          "text": [
            "Selected Features:\n",
            "Index(['amount', 'oldbalanceOrg', 'newbalanceOrig', 'nameOrig_encoded',\n",
            "       'nameDest_encoded'],\n",
            "      dtype='object')\n"
          ]
        }
      ],
      "source": [
        "from sklearn.feature_selection import RFE\n",
        "from sklearn.linear_model import LogisticRegression\n",
        "\n",
        "# Creating the logistic regression estimator\n",
        "\n",
        "estimator = LogisticRegression(solver='liblinear')\n",
        "\n",
        "# Created the RFE object and specifing the number of features to be selected\n",
        "\n",
        "rfe = RFE(estimator, n_features_to_select=5)\n",
        "\n",
        "rfe.fit(x_train, y_train)\n",
        "\n",
        "selected_features = x_train.columns[rfe.support_]\n",
        "\n",
        "print(\"Selected Features:\")\n",
        "print(selected_features)"
      ]
    },
    {
      "cell_type": "markdown",
      "source": [
        "## **Analysis Summary**\n",
        "\n",
        "We analyzed the financial transactions data and developed a machine learning model to\n",
        "detect fraud. The analysis included data cleaning, exploratory analysis and predictive\n",
        "modeling.\n",
        "\n",
        "In the data cleaning, we checked for missing values, converted data types and\n",
        "summarized the variables in the data. In an exploratory analysis, we looked at the class\n",
        "imbalance, and deep-dived into each of the variables, in particular transaction type,\n",
        "transaction amount, balance and time step. We identified derived variables that can help\n",
        "with fraud detection. We also plotted various graphs to better visualize the data and come\n",
        "up with insights\n",
        "\n"
      ],
      "metadata": {
        "id": "nMPZpwvwHyuF"
      }
    },
    {
      "cell_type": "markdown",
      "metadata": {
        "id": "dQgbUTmMorIt"
      },
      "source": [
        "##2.Describe your fraud detection model in elaboration.\n",
        "\n",
        "The fraud detection model in this project is based on logistic regression. Logistic regression is a widely used statistical model for binary classification tasks. It estimates the probability of an event occurring by fitting a logistic function to the data. In the context of fraud detection, the model predicts the probability of a transaction being fraudulent based on a set of input features"
      ]
    },
    {
      "cell_type": "markdown",
      "metadata": {
        "id": "4kHXh_IlpEZX"
      },
      "source": [
        "## 3.How did you select variables to be included in the model?\n",
        "\n",
        "\n",
        "The variables were selected for inclusion in the model using Recursive Feature Elimination (RFE) with logistic regression. RFE identifies the most important features by recursively eliminating less relevant features based on their coefficients and impact on the model's performance. In this case, the selected features are 'amount', 'oldbalanceOrg', 'newbalanceOrig', 'nameOrig_encoded', and 'nameDest_encoded', which were deemed significant in predicting fraud."
      ]
    },
    {
      "cell_type": "markdown",
      "metadata": {
        "id": "pyjvL46opWgx"
      },
      "source": [
        "## 4.Demonstrate the performance of the model by using best set of tools.\n",
        "\n",
        "\n",
        "The performance of the fraud detection model was assessed using AUROC (Area Under the Receiver Operating Characteristic curve), which is a suitable metric for imbalanced datasets. The model achieved an AUROC score of 0.9448, indicating its effectiveness in distinguishing between fraudulent and non-fraudulent transactions. This demonstrates that the model is well-equipped to handle imbalanced data and accurately identify instances of fraud."
      ]
    },
    {
      "cell_type": "markdown",
      "metadata": {
        "id": "N6OkTjH8pbKC"
      },
      "source": [
        "## 5.What are the key factors that predict fraudulent customer?\n",
        "\n",
        "The key factors that predict fraudulent customers in the fraud detection model include 'amount', 'oldbalanceOrg', 'newbalanceOrig', 'nameOrig_encoded', and 'nameDest_encoded'. These features were identified as having a significant impact on distinguishing fraudulent transactions from legitimate ones."
      ]
    },
    {
      "cell_type": "markdown",
      "metadata": {
        "id": "XGVThO-2qSek"
      },
      "source": [
        "## 6.Do these factors make sense? If yes, How? If not, How not?\n",
        "\n",
        "Yes, these factors make sense in predicting fraudulent customers. By analyzing transaction amounts, account balances, and encoded account names, we can identify patterns associated with fraudulent activity. These factors align with common indicators of fraud and enable proactive detection. Employing such meaningful features enhances the model's ability to accurately identify and flag suspicious transactions, thus mitigating financial risks and safeguarding against fraudulent behavior"
      ]
    },
    {
      "cell_type": "markdown",
      "metadata": {
        "id": "mrsej1sSqnk_"
      },
      "source": [
        "## 7.What kind of prevention should be adopted while company update its infrastructure?\n",
        "\n",
        "1.Implement cutting-edge authentication methods: Strengthen security with advanced authentication techniques like biometrics and token-based systems to ensure robust user verification.\n",
        "\n",
        "2.Conduct rigorous security audits: Regularly assess vulnerabilities, perform penetration testing, and swiftly apply security patches to maintain a secure infrastructure.\n",
        "\n",
        "3.Empower employees and customers: Provide comprehensive security training programs to educate them about potential threats and how to safeguard against fraud.\n",
        "\n",
        "4.Leverage real-time monitoring: Deploy real-time monitoring systems to detect and mitigate suspicious activities, ensuring prompt action against fraud.\n",
        "\n",
        "5.Foster collaboration: Establish partnerships with industry peers, financial institutions, and law enforcement agencies to share information and collectively combat fraud.\n",
        "\n",
        "6.Strengthen data protection: Implement robust data encryption and stringent access controls to safeguard sensitive information and prevent unauthorized access.\n",
        "\n",
        "7.Stay ahead with evolving fraud tactics: Continuously update fraud detection models to stay ahead of emerging fraud techniques and ensure effective prevention."
      ]
    },
    {
      "cell_type": "markdown",
      "metadata": {
        "id": "HfvHy8mOrCIJ"
      },
      "source": [
        "## 8.Assuming these actions have been implemented, how would you determine if they work?\n",
        "\n",
        "To determine the effectiveness of the implemented actions:\n",
        "\n",
        "1.Analyze trends in fraud incidents and compare pre- and post-implementation periods.\n",
        "\n",
        "2.Measure the reduction in fraudulent transactions and incidents.\n",
        "\n",
        "3.Gather feedback from stakeholders, track key performance indicators, and conduct regular security audits to assess the system's effectiveness and alignment with industry standards."
      ]
    }
  ],
  "metadata": {
    "colab": {
      "provenance": [],
      "authorship_tag": "ABX9TyOK2YFaO5j2BxOa7fxlCu0J",
      "include_colab_link": true
    },
    "kernelspec": {
      "display_name": "Python 3",
      "name": "python3"
    },
    "language_info": {
      "name": "python"
    }
  },
  "nbformat": 4,
  "nbformat_minor": 0
}