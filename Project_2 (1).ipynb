{
  "nbformat": 4,
  "nbformat_minor": 0,
  "metadata": {
    "colab": {
      "provenance": []
    },
    "kernelspec": {
      "name": "python3",
      "display_name": "Python 3"
    },
    "language_info": {
      "name": "python"
    }
  },
  "cells": [
    {
      "cell_type": "code",
      "execution_count": 1,
      "metadata": {
        "id": "5x0kZqLDfqpE"
      },
      "outputs": [],
      "source": [
        "# Importing Necessary Libraries\n",
        "import numpy as np\n",
        "import pandas as pd\n",
        "import matplotlib.pyplot as plt\n",
        "import seaborn as sns"
      ]
    },
    {
      "cell_type": "code",
      "source": [
        "# Reading the Data\n",
        "df = pd.read_csv('Influencer.xlsx - Influencer.csv')\n",
        "df.head()"
      ],
      "metadata": {
        "colab": {
          "base_uri": "https://localhost:8080/",
          "height": 206
        },
        "id": "smk1jPjQfwt0",
        "outputId": "0133214f-f0aa-4946-9007-c64563938414"
      },
      "execution_count": 2,
      "outputs": [
        {
          "output_type": "execute_result",
          "data": {
            "text/plain": [
              "   Rank   Channel Info  Influence Score Followers Avg. Likes Posts  \\\n",
              "0     1    \\ncristiano               92    485.2m       8.7m  3.4k   \n",
              "1     2    kyliejenner               91    370.7m       8.2m  7.0k   \n",
              "2     3     \\nleomessi               90    363.9m       6.7m   915   \n",
              "3     4  \\nselenagomez               93    348.8m       6.1m  1.9k   \n",
              "4     5      \\ntherock               91    339.4m       1.8m  6.8k   \n",
              "\n",
              "   60-Day Eng Rate New Post Avg. Likes Total Likes Country Or Region  \n",
              "0            0.013                6.3m       29.1b             Spain  \n",
              "1            0.014                5.0m       57.4b     United States  \n",
              "2            0.010                3.5m        6.1b               NaN  \n",
              "3            0.005                1.7m       11.4b     United States  \n",
              "4            0.003              932.0k       12.6b     United States  "
            ],
            "text/html": [
              "\n",
              "  <div id=\"df-7ffee1c5-7dc1-4ed3-acee-d933ecc089d6\">\n",
              "    <div class=\"colab-df-container\">\n",
              "      <div>\n",
              "<style scoped>\n",
              "    .dataframe tbody tr th:only-of-type {\n",
              "        vertical-align: middle;\n",
              "    }\n",
              "\n",
              "    .dataframe tbody tr th {\n",
              "        vertical-align: top;\n",
              "    }\n",
              "\n",
              "    .dataframe thead th {\n",
              "        text-align: right;\n",
              "    }\n",
              "</style>\n",
              "<table border=\"1\" class=\"dataframe\">\n",
              "  <thead>\n",
              "    <tr style=\"text-align: right;\">\n",
              "      <th></th>\n",
              "      <th>Rank</th>\n",
              "      <th>Channel Info</th>\n",
              "      <th>Influence Score</th>\n",
              "      <th>Followers</th>\n",
              "      <th>Avg. Likes</th>\n",
              "      <th>Posts</th>\n",
              "      <th>60-Day Eng Rate</th>\n",
              "      <th>New Post Avg. Likes</th>\n",
              "      <th>Total Likes</th>\n",
              "      <th>Country Or Region</th>\n",
              "    </tr>\n",
              "  </thead>\n",
              "  <tbody>\n",
              "    <tr>\n",
              "      <th>0</th>\n",
              "      <td>1</td>\n",
              "      <td>\\ncristiano</td>\n",
              "      <td>92</td>\n",
              "      <td>485.2m</td>\n",
              "      <td>8.7m</td>\n",
              "      <td>3.4k</td>\n",
              "      <td>0.013</td>\n",
              "      <td>6.3m</td>\n",
              "      <td>29.1b</td>\n",
              "      <td>Spain</td>\n",
              "    </tr>\n",
              "    <tr>\n",
              "      <th>1</th>\n",
              "      <td>2</td>\n",
              "      <td>kyliejenner</td>\n",
              "      <td>91</td>\n",
              "      <td>370.7m</td>\n",
              "      <td>8.2m</td>\n",
              "      <td>7.0k</td>\n",
              "      <td>0.014</td>\n",
              "      <td>5.0m</td>\n",
              "      <td>57.4b</td>\n",
              "      <td>United States</td>\n",
              "    </tr>\n",
              "    <tr>\n",
              "      <th>2</th>\n",
              "      <td>3</td>\n",
              "      <td>\\nleomessi</td>\n",
              "      <td>90</td>\n",
              "      <td>363.9m</td>\n",
              "      <td>6.7m</td>\n",
              "      <td>915</td>\n",
              "      <td>0.010</td>\n",
              "      <td>3.5m</td>\n",
              "      <td>6.1b</td>\n",
              "      <td>NaN</td>\n",
              "    </tr>\n",
              "    <tr>\n",
              "      <th>3</th>\n",
              "      <td>4</td>\n",
              "      <td>\\nselenagomez</td>\n",
              "      <td>93</td>\n",
              "      <td>348.8m</td>\n",
              "      <td>6.1m</td>\n",
              "      <td>1.9k</td>\n",
              "      <td>0.005</td>\n",
              "      <td>1.7m</td>\n",
              "      <td>11.4b</td>\n",
              "      <td>United States</td>\n",
              "    </tr>\n",
              "    <tr>\n",
              "      <th>4</th>\n",
              "      <td>5</td>\n",
              "      <td>\\ntherock</td>\n",
              "      <td>91</td>\n",
              "      <td>339.4m</td>\n",
              "      <td>1.8m</td>\n",
              "      <td>6.8k</td>\n",
              "      <td>0.003</td>\n",
              "      <td>932.0k</td>\n",
              "      <td>12.6b</td>\n",
              "      <td>United States</td>\n",
              "    </tr>\n",
              "  </tbody>\n",
              "</table>\n",
              "</div>\n",
              "      <button class=\"colab-df-convert\" onclick=\"convertToInteractive('df-7ffee1c5-7dc1-4ed3-acee-d933ecc089d6')\"\n",
              "              title=\"Convert this dataframe to an interactive table.\"\n",
              "              style=\"display:none;\">\n",
              "        \n",
              "  <svg xmlns=\"http://www.w3.org/2000/svg\" height=\"24px\"viewBox=\"0 0 24 24\"\n",
              "       width=\"24px\">\n",
              "    <path d=\"M0 0h24v24H0V0z\" fill=\"none\"/>\n",
              "    <path d=\"M18.56 5.44l.94 2.06.94-2.06 2.06-.94-2.06-.94-.94-2.06-.94 2.06-2.06.94zm-11 1L8.5 8.5l.94-2.06 2.06-.94-2.06-.94L8.5 2.5l-.94 2.06-2.06.94zm10 10l.94 2.06.94-2.06 2.06-.94-2.06-.94-.94-2.06-.94 2.06-2.06.94z\"/><path d=\"M17.41 7.96l-1.37-1.37c-.4-.4-.92-.59-1.43-.59-.52 0-1.04.2-1.43.59L10.3 9.45l-7.72 7.72c-.78.78-.78 2.05 0 2.83L4 21.41c.39.39.9.59 1.41.59.51 0 1.02-.2 1.41-.59l7.78-7.78 2.81-2.81c.8-.78.8-2.07 0-2.86zM5.41 20L4 18.59l7.72-7.72 1.47 1.35L5.41 20z\"/>\n",
              "  </svg>\n",
              "      </button>\n",
              "      \n",
              "  <style>\n",
              "    .colab-df-container {\n",
              "      display:flex;\n",
              "      flex-wrap:wrap;\n",
              "      gap: 12px;\n",
              "    }\n",
              "\n",
              "    .colab-df-convert {\n",
              "      background-color: #E8F0FE;\n",
              "      border: none;\n",
              "      border-radius: 50%;\n",
              "      cursor: pointer;\n",
              "      display: none;\n",
              "      fill: #1967D2;\n",
              "      height: 32px;\n",
              "      padding: 0 0 0 0;\n",
              "      width: 32px;\n",
              "    }\n",
              "\n",
              "    .colab-df-convert:hover {\n",
              "      background-color: #E2EBFA;\n",
              "      box-shadow: 0px 1px 2px rgba(60, 64, 67, 0.3), 0px 1px 3px 1px rgba(60, 64, 67, 0.15);\n",
              "      fill: #174EA6;\n",
              "    }\n",
              "\n",
              "    [theme=dark] .colab-df-convert {\n",
              "      background-color: #3B4455;\n",
              "      fill: #D2E3FC;\n",
              "    }\n",
              "\n",
              "    [theme=dark] .colab-df-convert:hover {\n",
              "      background-color: #434B5C;\n",
              "      box-shadow: 0px 1px 3px 1px rgba(0, 0, 0, 0.15);\n",
              "      filter: drop-shadow(0px 1px 2px rgba(0, 0, 0, 0.3));\n",
              "      fill: #FFFFFF;\n",
              "    }\n",
              "  </style>\n",
              "\n",
              "      <script>\n",
              "        const buttonEl =\n",
              "          document.querySelector('#df-7ffee1c5-7dc1-4ed3-acee-d933ecc089d6 button.colab-df-convert');\n",
              "        buttonEl.style.display =\n",
              "          google.colab.kernel.accessAllowed ? 'block' : 'none';\n",
              "\n",
              "        async function convertToInteractive(key) {\n",
              "          const element = document.querySelector('#df-7ffee1c5-7dc1-4ed3-acee-d933ecc089d6');\n",
              "          const dataTable =\n",
              "            await google.colab.kernel.invokeFunction('convertToInteractive',\n",
              "                                                     [key], {});\n",
              "          if (!dataTable) return;\n",
              "\n",
              "          const docLinkHtml = 'Like what you see? Visit the ' +\n",
              "            '<a target=\"_blank\" href=https://colab.research.google.com/notebooks/data_table.ipynb>data table notebook</a>'\n",
              "            + ' to learn more about interactive tables.';\n",
              "          element.innerHTML = '';\n",
              "          dataTable['output_type'] = 'display_data';\n",
              "          await google.colab.output.renderOutput(dataTable, element);\n",
              "          const docLink = document.createElement('div');\n",
              "          docLink.innerHTML = docLinkHtml;\n",
              "          element.appendChild(docLink);\n",
              "        }\n",
              "      </script>\n",
              "    </div>\n",
              "  </div>\n",
              "  "
            ]
          },
          "metadata": {},
          "execution_count": 2
        }
      ]
    },
    {
      "cell_type": "code",
      "source": [
        "df.shape"
      ],
      "metadata": {
        "colab": {
          "base_uri": "https://localhost:8080/"
        },
        "id": "4EJPnfHvgNTG",
        "outputId": "0b8e78e9-c583-499f-e830-b645b5544e92"
      },
      "execution_count": 3,
      "outputs": [
        {
          "output_type": "execute_result",
          "data": {
            "text/plain": [
              "(200, 10)"
            ]
          },
          "metadata": {},
          "execution_count": 3
        }
      ]
    },
    {
      "cell_type": "code",
      "source": [
        "# Removing Unwanted charaters in Channel info\n",
        "df['Channel Info'] = df['Channel Info'].str.extract('([a-zA-Z\\s]+)', expand=False).str.strip()       "
      ],
      "metadata": {
        "id": "QpLf4vHbAs_V"
      },
      "execution_count": 4,
      "outputs": []
    },
    {
      "cell_type": "code",
      "source": [
        "df.head()"
      ],
      "metadata": {
        "colab": {
          "base_uri": "https://localhost:8080/",
          "height": 206
        },
        "id": "mjHiObN8BOME",
        "outputId": "591311e4-1564-4887-b8db-9801ba815c51"
      },
      "execution_count": 5,
      "outputs": [
        {
          "output_type": "execute_result",
          "data": {
            "text/plain": [
              "   Rank Channel Info  Influence Score Followers Avg. Likes Posts  \\\n",
              "0     1    cristiano               92    485.2m       8.7m  3.4k   \n",
              "1     2  kyliejenner               91    370.7m       8.2m  7.0k   \n",
              "2     3     leomessi               90    363.9m       6.7m   915   \n",
              "3     4  selenagomez               93    348.8m       6.1m  1.9k   \n",
              "4     5      therock               91    339.4m       1.8m  6.8k   \n",
              "\n",
              "   60-Day Eng Rate New Post Avg. Likes Total Likes Country Or Region  \n",
              "0            0.013                6.3m       29.1b             Spain  \n",
              "1            0.014                5.0m       57.4b     United States  \n",
              "2            0.010                3.5m        6.1b               NaN  \n",
              "3            0.005                1.7m       11.4b     United States  \n",
              "4            0.003              932.0k       12.6b     United States  "
            ],
            "text/html": [
              "\n",
              "  <div id=\"df-b6266dce-432a-405a-8e39-2510a9369cd7\">\n",
              "    <div class=\"colab-df-container\">\n",
              "      <div>\n",
              "<style scoped>\n",
              "    .dataframe tbody tr th:only-of-type {\n",
              "        vertical-align: middle;\n",
              "    }\n",
              "\n",
              "    .dataframe tbody tr th {\n",
              "        vertical-align: top;\n",
              "    }\n",
              "\n",
              "    .dataframe thead th {\n",
              "        text-align: right;\n",
              "    }\n",
              "</style>\n",
              "<table border=\"1\" class=\"dataframe\">\n",
              "  <thead>\n",
              "    <tr style=\"text-align: right;\">\n",
              "      <th></th>\n",
              "      <th>Rank</th>\n",
              "      <th>Channel Info</th>\n",
              "      <th>Influence Score</th>\n",
              "      <th>Followers</th>\n",
              "      <th>Avg. Likes</th>\n",
              "      <th>Posts</th>\n",
              "      <th>60-Day Eng Rate</th>\n",
              "      <th>New Post Avg. Likes</th>\n",
              "      <th>Total Likes</th>\n",
              "      <th>Country Or Region</th>\n",
              "    </tr>\n",
              "  </thead>\n",
              "  <tbody>\n",
              "    <tr>\n",
              "      <th>0</th>\n",
              "      <td>1</td>\n",
              "      <td>cristiano</td>\n",
              "      <td>92</td>\n",
              "      <td>485.2m</td>\n",
              "      <td>8.7m</td>\n",
              "      <td>3.4k</td>\n",
              "      <td>0.013</td>\n",
              "      <td>6.3m</td>\n",
              "      <td>29.1b</td>\n",
              "      <td>Spain</td>\n",
              "    </tr>\n",
              "    <tr>\n",
              "      <th>1</th>\n",
              "      <td>2</td>\n",
              "      <td>kyliejenner</td>\n",
              "      <td>91</td>\n",
              "      <td>370.7m</td>\n",
              "      <td>8.2m</td>\n",
              "      <td>7.0k</td>\n",
              "      <td>0.014</td>\n",
              "      <td>5.0m</td>\n",
              "      <td>57.4b</td>\n",
              "      <td>United States</td>\n",
              "    </tr>\n",
              "    <tr>\n",
              "      <th>2</th>\n",
              "      <td>3</td>\n",
              "      <td>leomessi</td>\n",
              "      <td>90</td>\n",
              "      <td>363.9m</td>\n",
              "      <td>6.7m</td>\n",
              "      <td>915</td>\n",
              "      <td>0.010</td>\n",
              "      <td>3.5m</td>\n",
              "      <td>6.1b</td>\n",
              "      <td>NaN</td>\n",
              "    </tr>\n",
              "    <tr>\n",
              "      <th>3</th>\n",
              "      <td>4</td>\n",
              "      <td>selenagomez</td>\n",
              "      <td>93</td>\n",
              "      <td>348.8m</td>\n",
              "      <td>6.1m</td>\n",
              "      <td>1.9k</td>\n",
              "      <td>0.005</td>\n",
              "      <td>1.7m</td>\n",
              "      <td>11.4b</td>\n",
              "      <td>United States</td>\n",
              "    </tr>\n",
              "    <tr>\n",
              "      <th>4</th>\n",
              "      <td>5</td>\n",
              "      <td>therock</td>\n",
              "      <td>91</td>\n",
              "      <td>339.4m</td>\n",
              "      <td>1.8m</td>\n",
              "      <td>6.8k</td>\n",
              "      <td>0.003</td>\n",
              "      <td>932.0k</td>\n",
              "      <td>12.6b</td>\n",
              "      <td>United States</td>\n",
              "    </tr>\n",
              "  </tbody>\n",
              "</table>\n",
              "</div>\n",
              "      <button class=\"colab-df-convert\" onclick=\"convertToInteractive('df-b6266dce-432a-405a-8e39-2510a9369cd7')\"\n",
              "              title=\"Convert this dataframe to an interactive table.\"\n",
              "              style=\"display:none;\">\n",
              "        \n",
              "  <svg xmlns=\"http://www.w3.org/2000/svg\" height=\"24px\"viewBox=\"0 0 24 24\"\n",
              "       width=\"24px\">\n",
              "    <path d=\"M0 0h24v24H0V0z\" fill=\"none\"/>\n",
              "    <path d=\"M18.56 5.44l.94 2.06.94-2.06 2.06-.94-2.06-.94-.94-2.06-.94 2.06-2.06.94zm-11 1L8.5 8.5l.94-2.06 2.06-.94-2.06-.94L8.5 2.5l-.94 2.06-2.06.94zm10 10l.94 2.06.94-2.06 2.06-.94-2.06-.94-.94-2.06-.94 2.06-2.06.94z\"/><path d=\"M17.41 7.96l-1.37-1.37c-.4-.4-.92-.59-1.43-.59-.52 0-1.04.2-1.43.59L10.3 9.45l-7.72 7.72c-.78.78-.78 2.05 0 2.83L4 21.41c.39.39.9.59 1.41.59.51 0 1.02-.2 1.41-.59l7.78-7.78 2.81-2.81c.8-.78.8-2.07 0-2.86zM5.41 20L4 18.59l7.72-7.72 1.47 1.35L5.41 20z\"/>\n",
              "  </svg>\n",
              "      </button>\n",
              "      \n",
              "  <style>\n",
              "    .colab-df-container {\n",
              "      display:flex;\n",
              "      flex-wrap:wrap;\n",
              "      gap: 12px;\n",
              "    }\n",
              "\n",
              "    .colab-df-convert {\n",
              "      background-color: #E8F0FE;\n",
              "      border: none;\n",
              "      border-radius: 50%;\n",
              "      cursor: pointer;\n",
              "      display: none;\n",
              "      fill: #1967D2;\n",
              "      height: 32px;\n",
              "      padding: 0 0 0 0;\n",
              "      width: 32px;\n",
              "    }\n",
              "\n",
              "    .colab-df-convert:hover {\n",
              "      background-color: #E2EBFA;\n",
              "      box-shadow: 0px 1px 2px rgba(60, 64, 67, 0.3), 0px 1px 3px 1px rgba(60, 64, 67, 0.15);\n",
              "      fill: #174EA6;\n",
              "    }\n",
              "\n",
              "    [theme=dark] .colab-df-convert {\n",
              "      background-color: #3B4455;\n",
              "      fill: #D2E3FC;\n",
              "    }\n",
              "\n",
              "    [theme=dark] .colab-df-convert:hover {\n",
              "      background-color: #434B5C;\n",
              "      box-shadow: 0px 1px 3px 1px rgba(0, 0, 0, 0.15);\n",
              "      filter: drop-shadow(0px 1px 2px rgba(0, 0, 0, 0.3));\n",
              "      fill: #FFFFFF;\n",
              "    }\n",
              "  </style>\n",
              "\n",
              "      <script>\n",
              "        const buttonEl =\n",
              "          document.querySelector('#df-b6266dce-432a-405a-8e39-2510a9369cd7 button.colab-df-convert');\n",
              "        buttonEl.style.display =\n",
              "          google.colab.kernel.accessAllowed ? 'block' : 'none';\n",
              "\n",
              "        async function convertToInteractive(key) {\n",
              "          const element = document.querySelector('#df-b6266dce-432a-405a-8e39-2510a9369cd7');\n",
              "          const dataTable =\n",
              "            await google.colab.kernel.invokeFunction('convertToInteractive',\n",
              "                                                     [key], {});\n",
              "          if (!dataTable) return;\n",
              "\n",
              "          const docLinkHtml = 'Like what you see? Visit the ' +\n",
              "            '<a target=\"_blank\" href=https://colab.research.google.com/notebooks/data_table.ipynb>data table notebook</a>'\n",
              "            + ' to learn more about interactive tables.';\n",
              "          element.innerHTML = '';\n",
              "          dataTable['output_type'] = 'display_data';\n",
              "          await google.colab.output.renderOutput(dataTable, element);\n",
              "          const docLink = document.createElement('div');\n",
              "          docLink.innerHTML = docLinkHtml;\n",
              "          element.appendChild(docLink);\n",
              "        }\n",
              "      </script>\n",
              "    </div>\n",
              "  </div>\n",
              "  "
            ]
          },
          "metadata": {},
          "execution_count": 5
        }
      ]
    },
    {
      "cell_type": "code",
      "source": [
        "df.columns"
      ],
      "metadata": {
        "id": "2PQh5NjcJGyV",
        "colab": {
          "base_uri": "https://localhost:8080/"
        },
        "outputId": "6f923b2d-bf7d-467b-863b-a9a0c528c244"
      },
      "execution_count": 6,
      "outputs": [
        {
          "output_type": "execute_result",
          "data": {
            "text/plain": [
              "Index(['Rank', 'Channel Info', 'Influence Score', 'Followers', 'Avg. Likes',\n",
              "       'Posts', '60-Day Eng Rate', 'New Post Avg. Likes', 'Total Likes',\n",
              "       'Country Or Region'],\n",
              "      dtype='object')"
            ]
          },
          "metadata": {},
          "execution_count": 6
        }
      ]
    },
    {
      "cell_type": "code",
      "source": [
        "# Converting Billions, Millions and k to integers\n",
        "\n",
        "def value_to_float(x):\n",
        "    if type(x) == float or type(x) == int:\n",
        "        return x\n",
        "    if 'k' in x:\n",
        "        if len(x) > 1:\n",
        "            return float(x.replace('k', '')) * 1000\n",
        "        return 1000.0\n",
        "    if 'm' in x:\n",
        "        if len(x) > 1:\n",
        "            return float(x.replace('m', '')) * 1000000\n",
        "        return 1000000.0\n",
        "    if 'b' in x:\n",
        "        return float(x.replace('b', '')) * 1000000000\n",
        "    return 0.0\n",
        "\n",
        "df['Followers'] = df['Followers'].apply(value_to_float)\n",
        "df['Avg. Likes'] = df['Avg. Likes'].apply(value_to_float)\n",
        "df['Posts'] = df['Posts'].apply(value_to_float)\n",
        "df['New Post Avg. Likes'] = df['New Post Avg. Likes'].apply(value_to_float)\n",
        "df['Total Likes'] = df['Total Likes'].apply(value_to_float)\n"
      ],
      "metadata": {
        "id": "CeBA1-1zzifr"
      },
      "execution_count": 7,
      "outputs": []
    },
    {
      "cell_type": "code",
      "source": [
        "df.dtypes"
      ],
      "metadata": {
        "colab": {
          "base_uri": "https://localhost:8080/"
        },
        "id": "MGnirNxz1n_N",
        "outputId": "e19c0bd3-775a-4250-b357-8e2b071e3e62"
      },
      "execution_count": 8,
      "outputs": [
        {
          "output_type": "execute_result",
          "data": {
            "text/plain": [
              "Rank                     int64\n",
              "Channel Info            object\n",
              "Influence Score          int64\n",
              "Followers              float64\n",
              "Avg. Likes             float64\n",
              "Posts                  float64\n",
              "60-Day Eng Rate        float64\n",
              "New Post Avg. Likes    float64\n",
              "Total Likes            float64\n",
              "Country Or Region       object\n",
              "dtype: object"
            ]
          },
          "metadata": {},
          "execution_count": 8
        }
      ]
    },
    {
      "cell_type": "code",
      "source": [
        "df = df.rename(columns = {'Channel Info':'Channel_Info','Influence Score':'Influence_Score','Avg. Likes':'Avg._Likes','60-Day Eng Rate':'60-Day_Eng_Rate','New Post Avg. Likes':'New_Post_Avg._Likes','Total Likes':'Total_Likes'})  #Tried to rename columns"
      ],
      "metadata": {
        "id": "rBonM4OWLW5O"
      },
      "execution_count": 9,
      "outputs": []
    },
    {
      "cell_type": "code",
      "source": [
        "# For Finding the Correlation Features\n",
        "\n",
        "df.corr()             "
      ],
      "metadata": {
        "id": "XT7s8iybJo3n",
        "colab": {
          "base_uri": "https://localhost:8080/",
          "height": 300
        },
        "outputId": "43feca58-d238-46f2-d239-23aec5e7b492"
      },
      "execution_count": 10,
      "outputs": [
        {
          "output_type": "execute_result",
          "data": {
            "text/plain": [
              "                         Rank  Influence_Score  Followers  Avg._Likes  \\\n",
              "Rank                 1.000000        -0.354843  -0.698193   -0.277699   \n",
              "Influence_Score     -0.354843         1.000000   0.365428    0.048502   \n",
              "Followers           -0.698193         0.365428   1.000000    0.346829   \n",
              "Avg._Likes          -0.277699         0.048502   0.346829    1.000000   \n",
              "Posts               -0.059442         0.170570   0.068053   -0.350119   \n",
              "60-Day_Eng_Rate      0.028900        -0.072460  -0.107439    0.789359   \n",
              "New_Post_Avg._Likes -0.272323         0.040011   0.260764    0.892784   \n",
              "Total_Likes         -0.465119         0.234987   0.667546    0.361296   \n",
              "\n",
              "                        Posts  60-Day_Eng_Rate  New_Post_Avg._Likes  \\\n",
              "Rank                -0.059442         0.028900            -0.272323   \n",
              "Influence_Score      0.170570        -0.072460             0.040011   \n",
              "Followers            0.068053        -0.107439             0.260764   \n",
              "Avg._Likes          -0.350119         0.789359             0.892784   \n",
              "Posts                1.000000        -0.334506            -0.288496   \n",
              "60-Day_Eng_Rate     -0.334506         1.000000             0.866293   \n",
              "New_Post_Avg._Likes -0.288496         0.866293             1.000000   \n",
              "Total_Likes          0.237632        -0.001560             0.351335   \n",
              "\n",
              "                     Total_Likes  \n",
              "Rank                   -0.465119  \n",
              "Influence_Score         0.234987  \n",
              "Followers               0.667546  \n",
              "Avg._Likes              0.361296  \n",
              "Posts                   0.237632  \n",
              "60-Day_Eng_Rate        -0.001560  \n",
              "New_Post_Avg._Likes     0.351335  \n",
              "Total_Likes             1.000000  "
            ],
            "text/html": [
              "\n",
              "  <div id=\"df-b1b73f89-1fef-4acf-9b5c-adb35eea33fd\">\n",
              "    <div class=\"colab-df-container\">\n",
              "      <div>\n",
              "<style scoped>\n",
              "    .dataframe tbody tr th:only-of-type {\n",
              "        vertical-align: middle;\n",
              "    }\n",
              "\n",
              "    .dataframe tbody tr th {\n",
              "        vertical-align: top;\n",
              "    }\n",
              "\n",
              "    .dataframe thead th {\n",
              "        text-align: right;\n",
              "    }\n",
              "</style>\n",
              "<table border=\"1\" class=\"dataframe\">\n",
              "  <thead>\n",
              "    <tr style=\"text-align: right;\">\n",
              "      <th></th>\n",
              "      <th>Rank</th>\n",
              "      <th>Influence_Score</th>\n",
              "      <th>Followers</th>\n",
              "      <th>Avg._Likes</th>\n",
              "      <th>Posts</th>\n",
              "      <th>60-Day_Eng_Rate</th>\n",
              "      <th>New_Post_Avg._Likes</th>\n",
              "      <th>Total_Likes</th>\n",
              "    </tr>\n",
              "  </thead>\n",
              "  <tbody>\n",
              "    <tr>\n",
              "      <th>Rank</th>\n",
              "      <td>1.000000</td>\n",
              "      <td>-0.354843</td>\n",
              "      <td>-0.698193</td>\n",
              "      <td>-0.277699</td>\n",
              "      <td>-0.059442</td>\n",
              "      <td>0.028900</td>\n",
              "      <td>-0.272323</td>\n",
              "      <td>-0.465119</td>\n",
              "    </tr>\n",
              "    <tr>\n",
              "      <th>Influence_Score</th>\n",
              "      <td>-0.354843</td>\n",
              "      <td>1.000000</td>\n",
              "      <td>0.365428</td>\n",
              "      <td>0.048502</td>\n",
              "      <td>0.170570</td>\n",
              "      <td>-0.072460</td>\n",
              "      <td>0.040011</td>\n",
              "      <td>0.234987</td>\n",
              "    </tr>\n",
              "    <tr>\n",
              "      <th>Followers</th>\n",
              "      <td>-0.698193</td>\n",
              "      <td>0.365428</td>\n",
              "      <td>1.000000</td>\n",
              "      <td>0.346829</td>\n",
              "      <td>0.068053</td>\n",
              "      <td>-0.107439</td>\n",
              "      <td>0.260764</td>\n",
              "      <td>0.667546</td>\n",
              "    </tr>\n",
              "    <tr>\n",
              "      <th>Avg._Likes</th>\n",
              "      <td>-0.277699</td>\n",
              "      <td>0.048502</td>\n",
              "      <td>0.346829</td>\n",
              "      <td>1.000000</td>\n",
              "      <td>-0.350119</td>\n",
              "      <td>0.789359</td>\n",
              "      <td>0.892784</td>\n",
              "      <td>0.361296</td>\n",
              "    </tr>\n",
              "    <tr>\n",
              "      <th>Posts</th>\n",
              "      <td>-0.059442</td>\n",
              "      <td>0.170570</td>\n",
              "      <td>0.068053</td>\n",
              "      <td>-0.350119</td>\n",
              "      <td>1.000000</td>\n",
              "      <td>-0.334506</td>\n",
              "      <td>-0.288496</td>\n",
              "      <td>0.237632</td>\n",
              "    </tr>\n",
              "    <tr>\n",
              "      <th>60-Day_Eng_Rate</th>\n",
              "      <td>0.028900</td>\n",
              "      <td>-0.072460</td>\n",
              "      <td>-0.107439</td>\n",
              "      <td>0.789359</td>\n",
              "      <td>-0.334506</td>\n",
              "      <td>1.000000</td>\n",
              "      <td>0.866293</td>\n",
              "      <td>-0.001560</td>\n",
              "    </tr>\n",
              "    <tr>\n",
              "      <th>New_Post_Avg._Likes</th>\n",
              "      <td>-0.272323</td>\n",
              "      <td>0.040011</td>\n",
              "      <td>0.260764</td>\n",
              "      <td>0.892784</td>\n",
              "      <td>-0.288496</td>\n",
              "      <td>0.866293</td>\n",
              "      <td>1.000000</td>\n",
              "      <td>0.351335</td>\n",
              "    </tr>\n",
              "    <tr>\n",
              "      <th>Total_Likes</th>\n",
              "      <td>-0.465119</td>\n",
              "      <td>0.234987</td>\n",
              "      <td>0.667546</td>\n",
              "      <td>0.361296</td>\n",
              "      <td>0.237632</td>\n",
              "      <td>-0.001560</td>\n",
              "      <td>0.351335</td>\n",
              "      <td>1.000000</td>\n",
              "    </tr>\n",
              "  </tbody>\n",
              "</table>\n",
              "</div>\n",
              "      <button class=\"colab-df-convert\" onclick=\"convertToInteractive('df-b1b73f89-1fef-4acf-9b5c-adb35eea33fd')\"\n",
              "              title=\"Convert this dataframe to an interactive table.\"\n",
              "              style=\"display:none;\">\n",
              "        \n",
              "  <svg xmlns=\"http://www.w3.org/2000/svg\" height=\"24px\"viewBox=\"0 0 24 24\"\n",
              "       width=\"24px\">\n",
              "    <path d=\"M0 0h24v24H0V0z\" fill=\"none\"/>\n",
              "    <path d=\"M18.56 5.44l.94 2.06.94-2.06 2.06-.94-2.06-.94-.94-2.06-.94 2.06-2.06.94zm-11 1L8.5 8.5l.94-2.06 2.06-.94-2.06-.94L8.5 2.5l-.94 2.06-2.06.94zm10 10l.94 2.06.94-2.06 2.06-.94-2.06-.94-.94-2.06-.94 2.06-2.06.94z\"/><path d=\"M17.41 7.96l-1.37-1.37c-.4-.4-.92-.59-1.43-.59-.52 0-1.04.2-1.43.59L10.3 9.45l-7.72 7.72c-.78.78-.78 2.05 0 2.83L4 21.41c.39.39.9.59 1.41.59.51 0 1.02-.2 1.41-.59l7.78-7.78 2.81-2.81c.8-.78.8-2.07 0-2.86zM5.41 20L4 18.59l7.72-7.72 1.47 1.35L5.41 20z\"/>\n",
              "  </svg>\n",
              "      </button>\n",
              "      \n",
              "  <style>\n",
              "    .colab-df-container {\n",
              "      display:flex;\n",
              "      flex-wrap:wrap;\n",
              "      gap: 12px;\n",
              "    }\n",
              "\n",
              "    .colab-df-convert {\n",
              "      background-color: #E8F0FE;\n",
              "      border: none;\n",
              "      border-radius: 50%;\n",
              "      cursor: pointer;\n",
              "      display: none;\n",
              "      fill: #1967D2;\n",
              "      height: 32px;\n",
              "      padding: 0 0 0 0;\n",
              "      width: 32px;\n",
              "    }\n",
              "\n",
              "    .colab-df-convert:hover {\n",
              "      background-color: #E2EBFA;\n",
              "      box-shadow: 0px 1px 2px rgba(60, 64, 67, 0.3), 0px 1px 3px 1px rgba(60, 64, 67, 0.15);\n",
              "      fill: #174EA6;\n",
              "    }\n",
              "\n",
              "    [theme=dark] .colab-df-convert {\n",
              "      background-color: #3B4455;\n",
              "      fill: #D2E3FC;\n",
              "    }\n",
              "\n",
              "    [theme=dark] .colab-df-convert:hover {\n",
              "      background-color: #434B5C;\n",
              "      box-shadow: 0px 1px 3px 1px rgba(0, 0, 0, 0.15);\n",
              "      filter: drop-shadow(0px 1px 2px rgba(0, 0, 0, 0.3));\n",
              "      fill: #FFFFFF;\n",
              "    }\n",
              "  </style>\n",
              "\n",
              "      <script>\n",
              "        const buttonEl =\n",
              "          document.querySelector('#df-b1b73f89-1fef-4acf-9b5c-adb35eea33fd button.colab-df-convert');\n",
              "        buttonEl.style.display =\n",
              "          google.colab.kernel.accessAllowed ? 'block' : 'none';\n",
              "\n",
              "        async function convertToInteractive(key) {\n",
              "          const element = document.querySelector('#df-b1b73f89-1fef-4acf-9b5c-adb35eea33fd');\n",
              "          const dataTable =\n",
              "            await google.colab.kernel.invokeFunction('convertToInteractive',\n",
              "                                                     [key], {});\n",
              "          if (!dataTable) return;\n",
              "\n",
              "          const docLinkHtml = 'Like what you see? Visit the ' +\n",
              "            '<a target=\"_blank\" href=https://colab.research.google.com/notebooks/data_table.ipynb>data table notebook</a>'\n",
              "            + ' to learn more about interactive tables.';\n",
              "          element.innerHTML = '';\n",
              "          dataTable['output_type'] = 'display_data';\n",
              "          await google.colab.output.renderOutput(dataTable, element);\n",
              "          const docLink = document.createElement('div');\n",
              "          docLink.innerHTML = docLinkHtml;\n",
              "          element.appendChild(docLink);\n",
              "        }\n",
              "      </script>\n",
              "    </div>\n",
              "  </div>\n",
              "  "
            ]
          },
          "metadata": {},
          "execution_count": 10
        }
      ]
    },
    {
      "cell_type": "markdown",
      "source": [
        "**Question 1** : Are there any correlated features in the given dataset? If yes, state the correlation coefficient of the pair of features which are highly correlated.\n",
        "\n",
        "**Answer**:  Ya There are Correlated features in the given dataset. The Highly Correlated Features are :  \n",
        "\n",
        "1.   Average Likes and New Post Average Likes whichi is 0.89\n",
        "2.   60_Day Engagement Rate and New Post Average Likes which is 0.86\n",
        "3.   Average Likes and 60_Day Engagement Rate which is 0.78\n",
        "\n",
        "These are the Top 3 Highly Correlated features."
      ],
      "metadata": {
        "id": "QvqsKkLK9ZpZ"
      }
    },
    {
      "cell_type": "code",
      "source": [
        "# For Finding the Fequency Distribution of Features\n",
        "\n",
        "#Influence Score\n",
        "plt.hist(df['Influence_Score'])"
      ],
      "metadata": {
        "colab": {
          "base_uri": "https://localhost:8080/",
          "height": 317
        },
        "id": "8qMvm8dAxWc_",
        "outputId": "fa11a8a0-eefa-4fb4-cce8-3bf772d5caee"
      },
      "execution_count": 11,
      "outputs": [
        {
          "output_type": "execute_result",
          "data": {
            "text/plain": [
              "(array([  1.,   0.,   3.,   1.,   1.,   2.,   3.,  25., 107.,  57.]),\n",
              " array([22. , 29.1, 36.2, 43.3, 50.4, 57.5, 64.6, 71.7, 78.8, 85.9, 93. ]),\n",
              " <a list of 10 Patch objects>)"
            ]
          },
          "metadata": {},
          "execution_count": 11
        },
        {
          "output_type": "display_data",
          "data": {
            "text/plain": [
              "<Figure size 432x288 with 1 Axes>"
            ],
            "image/png": "[encoded data removed]"
          },
          "metadata": {
            "needs_background": "light"
          }
        }
      ]
    },
    {
      "cell_type": "code",
      "source": [
        "#Followers\n",
        "plt.hist(df['Followers'])"
      ],
      "metadata": {
        "colab": {
          "base_uri": "https://localhost:8080/",
          "height": 365
        },
        "id": "IfFlv8PIyryI",
        "outputId": "0d9717cd-d9ea-412c-d234-6d4804dfd639"
      },
      "execution_count": 12,
      "outputs": [
        {
          "output_type": "execute_result",
          "data": {
            "text/plain": [
              "(array([161.,  10.,   8.,   5.,   6.,   3.,   4.,   2.,   0.,   1.]),\n",
              " array([3.3400e+07, 7.8580e+07, 1.2376e+08, 1.6894e+08, 2.1412e+08,\n",
              "        2.5930e+08, 3.0448e+08, 3.4966e+08, 3.9484e+08, 4.4002e+08,\n",
              "        4.8520e+08]),\n",
              " <a list of 10 Patch objects>)"
            ]
          },
          "metadata": {},
          "execution_count": 12
        },
        {
          "output_type": "display_data",
          "data": {
            "text/plain": [
              "<Figure size 432x288 with 1 Axes>"
            ],
            "image/png": "[encoded data removed]"
          },
          "metadata": {
            "needs_background": "light"
          }
        }
      ]
    },
    {
      "cell_type": "code",
      "source": [
        "#Posts\n",
        "plt.hist(df['Posts'])"
      ],
      "metadata": {
        "colab": {
          "base_uri": "https://localhost:8080/",
          "height": 334
        },
        "id": "TxiAISPKyxd6",
        "outputId": "b90e4e79-c993-447b-adba-55f77302341a"
      },
      "execution_count": 13,
      "outputs": [
        {
          "output_type": "execute_result",
          "data": {
            "text/plain": [
              "(array([80., 48., 22., 13., 11., 22.,  2.,  1.,  0.,  1.]),\n",
              " array([    0.,  1690.,  3380.,  5070.,  6760.,  8450., 10140., 11830.,\n",
              "        13520., 15210., 16900.]),\n",
              " <a list of 10 Patch objects>)"
            ]
          },
          "metadata": {},
          "execution_count": 13
        },
        {
          "output_type": "display_data",
          "data": {
            "text/plain": [
              "<Figure size 432x288 with 1 Axes>"
            ],
            "image/png": "[encoded data removed]"
          },
          "metadata": {
            "needs_background": "light"
          }
        }
      ]
    },
    {
      "cell_type": "code",
      "source": [
        "# Finding the Country which has highest number of Instagram Influencers \n",
        "\n",
        "df['Country Or Region'].unique()\n",
        "\n",
        "a = df['Country Or Region'].value_counts()\n",
        "a.plot.bar()\n",
        "plt.title('Country with Highest Instagram Influencers')"
      ],
      "metadata": {
        "colab": {
          "base_uri": "https://localhost:8080/",
          "height": 395
        },
        "id": "nsXieOH6Ea_s",
        "outputId": "d6b865cf-1757-497c-8907-f970acdc6dbd"
      },
      "execution_count": 14,
      "outputs": [
        {
          "output_type": "execute_result",
          "data": {
            "text/plain": [
              "Text(0.5, 1.0, 'Country with Highest Instagram Influencers')"
            ]
          },
          "metadata": {},
          "execution_count": 14
        },
        {
          "output_type": "display_data",
          "data": {
            "text/plain": [
              "<Figure size 432x288 with 1 Axes>"
            ],
            "image/png": "[encoded data removed]"
          },
          "metadata": {
            "needs_background": "light"
          }
        }
      ]
    },
    {
      "cell_type": "markdown",
      "source": [
        "The Above one shows that United States has the highest number of Instagram Influencers in their country followed by Brazil and India."
      ],
      "metadata": {
        "id": "-bZ1qG9X-LzZ"
      }
    },
    {
      "cell_type": "code",
      "source": [
        "# For Finding Top 10 Instagram Influencers based on\n",
        "    #Followers\n",
        "    #Avg.Likes\n",
        "    #Total Likes\n",
        "  \n",
        "features = ['Followers','Avg._Likes','Total_Likes']\n",
        "for column in features:\n",
        "    top10 = df.nlargest(10,column)\n",
        "    plt.figure(figsize=(20,8))\n",
        "    plt.bar(top10['Channel_Info'], top10[column])\n",
        "    plt.ylabel(column, fontsize = 20)\n",
        "    plt.xlabel(\"Channel_Info\", fontsize = 20)\n",
        "    plt.title(\"Top 10 Instagrammers\", fontsize = 20)\n",
        "    plt.legend()"
      ],
      "metadata": {
        "id": "--mgAOZM-0Rq",
        "colab": {
          "base_uri": "https://localhost:8080/",
          "height": 1000
        },
        "outputId": "159f5424-75a5-4959-a6d4-139f56adc51e"
      },
      "execution_count": 15,
      "outputs": [
        {
          "output_type": "stream",
          "name": "stderr",
          "text": [
            "WARNING:matplotlib.legend:No handles with labels found to put in legend.\n",
            "WARNING:matplotlib.legend:No handles with labels found to put in legend.\n",
            "WARNING:matplotlib.legend:No handles with labels found to put in legend.\n"
          ]
        },
        {
          "output_type": "display_data",
          "data": {
            "text/plain": [
              "<Figure size 1440x576 with 1 Axes>"
            ],
            "image/png": "[encoded data removed]"
          },
          "metadata": {
            "needs_background": "light"
          }
        },
        {
          "output_type": "display_data",
          "data": {
            "text/plain": [
              "<Figure size 1440x576 with 1 Axes>"
            ],
            "image/png": "[encoded data removed]"
          },
          "metadata": {
            "needs_background": "light"
          }
        },
        {
          "output_type": "display_data",
          "data": {
            "text/plain": [
              "<Figure size 1440x576 with 1 Axes>"
            ],
            "image/png": "[encoded data removed]"
          },
          "metadata": {
            "needs_background": "light"
          }
        }
      ]
    },
    {
      "cell_type": "markdown",
      "source": [
        "The Above one gives us the Name of the Top 10 Instagram Influencers based on Followers , Average Likes and Total Likes"
      ],
      "metadata": {
        "id": "TNKZ-IQ--Xoy"
      }
    },
    {
      "cell_type": "code",
      "source": [
        "#Finding the Relationship between the pair of features\n",
        "\n",
        "\n",
        "plt.figure(figsize=(15, 5))\n",
        "plt.title(\"Total_Likes Vs Followers\")\n",
        "plt.scatter(data=df, x=\"Followers\", y=\"Total_Likes\")\n",
        "plt.show()"
      ],
      "metadata": {
        "colab": {
          "base_uri": "https://localhost:8080/",
          "height": 349
        },
        "id": "ZYmSeCffFWUV",
        "outputId": "105a80f0-af3b-48ec-d3d3-c946e2802aed"
      },
      "execution_count": 16,
      "outputs": [
        {
          "output_type": "display_data",
          "data": {
            "text/plain": [
              "<Figure size 1080x360 with 1 Axes>"
            ],
            "image/png": "[encoded data removed]"
          },
          "metadata": {
            "needs_background": "light"
          }
        }
      ]
    },
    {
      "cell_type": "markdown",
      "source": [
        "The Above Scatter Plot shows us Followers and Total Likes have strong Linear Relationship even Outliers are Present"
      ],
      "metadata": {
        "id": "Ump4yafFArxL"
      }
    },
    {
      "cell_type": "code",
      "source": [
        "plt.figure(figsize=(15, 5))\n",
        "plt.title(\"Influence Score Vs Followers\")\n",
        "plt.scatter(data=df, x=\"Followers\", y=\"Influence_Score\")\n",
        "plt.show()"
      ],
      "metadata": {
        "colab": {
          "base_uri": "https://localhost:8080/",
          "height": 349
        },
        "id": "X58rhBT2dpFQ",
        "outputId": "5b7b0616-52bd-47f3-892e-5bed2db817f3"
      },
      "execution_count": 17,
      "outputs": [
        {
          "output_type": "display_data",
          "data": {
            "text/plain": [
              "<Figure size 1080x360 with 1 Axes>"
            ],
            "image/png": "[encoded data removed]"
          },
          "metadata": {
            "needs_background": "light"
          }
        }
      ]
    },
    {
      "cell_type": "markdown",
      "source": [
        "The Above Scatter plot shows the Relationship between Influence Score and Followers."
      ],
      "metadata": {
        "id": "EUrxTm_9-yu6"
      }
    },
    {
      "cell_type": "code",
      "source": [
        "plt.figure(figsize=(15, 5))\n",
        "plt.title(\"Posts Vs Avg_Likes\")\n",
        "plt.scatter(data=df, x=\"Posts\", y=\"Avg._Likes\")\n",
        "plt.show()"
      ],
      "metadata": {
        "colab": {
          "base_uri": "https://localhost:8080/",
          "height": 336
        },
        "id": "9BTPPpe0FxDi",
        "outputId": "1a007db5-1c5d-4806-a650-09e7f2b866f0"
      },
      "execution_count": 18,
      "outputs": [
        {
          "output_type": "display_data",
          "data": {
            "text/plain": [
              "<Figure size 1080x360 with 1 Axes>"
            ],
            "image/png": "[encoded data removed]"
          },
          "metadata": {
            "needs_background": "light"
          }
        }
      ]
    },
    {
      "cell_type": "markdown",
      "source": [
        "The Above Scatter plot shows the Linear Relationship between Posts and Average Likes."
      ],
      "metadata": {
        "id": "XuJqB9y1-5wr"
      }
    },
    {
      "cell_type": "code",
      "source": [
        "plt.figure(figsize=(15, 5))\n",
        "plt.title(\"Influence Score Vs Posts\")\n",
        "plt.scatter(data=df, x=\"Posts\", y=\"Influence_Score\")\n",
        "plt.show()"
      ],
      "metadata": {
        "colab": {
          "base_uri": "https://localhost:8080/",
          "height": 336
        },
        "id": "EcNCfOPeFg-u",
        "outputId": "3ec39a59-9b3a-413c-fe5c-7d48b999f815"
      },
      "execution_count": 19,
      "outputs": [
        {
          "output_type": "display_data",
          "data": {
            "text/plain": [
              "<Figure size 1080x360 with 1 Axes>"
            ],
            "image/png": "[encoded data removed]"
          },
          "metadata": {
            "needs_background": "light"
          }
        }
      ]
    },
    {
      "cell_type": "markdown",
      "source": [
        "The Above Scatter plot shows the Relationship between Influence Score and Posts"
      ],
      "metadata": {
        "id": "wvERicQ6_ARa"
      }
    }
  ]
}